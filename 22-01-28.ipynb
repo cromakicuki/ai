{
 "cells": [
  {
   "cell_type": "code",
   "execution_count": 1,
   "id": "5c853511",
   "metadata": {},
   "outputs": [
    {
     "name": "stdout",
     "output_type": "stream",
     "text": [
      "5\n"
     ]
    }
   ],
   "source": [
    "# 문자열의 길이 구하기\n",
    "print(len('안녕하세요'))"
   ]
  },
  {
   "cell_type": "code",
   "execution_count": 2,
   "id": "62f13107",
   "metadata": {},
   "outputs": [
    {
     "name": "stdout",
     "output_type": "stream",
     "text": [
      "True\n"
     ]
    }
   ],
   "source": [
    "# 조건문 \n",
    "# bool & if\n",
    "\n",
    "print(True)"
   ]
  },
  {
   "cell_type": "code",
   "execution_count": 5,
   "id": "a501b024",
   "metadata": {},
   "outputs": [
    {
     "name": "stdout",
     "output_type": "stream",
     "text": [
      "False\n",
      "True\n",
      "True\n",
      "False\n",
      "False\n"
     ]
    }
   ],
   "source": [
    "print(10==100)\n",
    "print(10 != 100)\n",
    "print(10 < 100)\n",
    "print(10 > 100)\n",
    "print(10>=100)"
   ]
  },
  {
   "cell_type": "code",
   "execution_count": 3,
   "id": "624e1f38",
   "metadata": {
    "scrolled": true
   },
   "outputs": [
    {
     "name": "stdout",
     "output_type": "stream",
     "text": [
      "정수를 입력하세요 >> -5\n",
      "음수입니다\n"
     ]
    }
   ],
   "source": [
    "# if 조건문\n",
    "# 조건에 따라 특정 코드를 실행하거나 특정 코드를 실행하지 않게 만들고 싶을 때 사용.\n",
    "# 코드의 실행 흐름을 변경시키는 것을 조건 분기라고 부른다.\n",
    "\n",
    "num = int(input('정수를 입력하세요 >> '))\n",
    "\n",
    "if num > 0: \n",
    "    print('양수 입니다.')\n",
    "if num < 0:\n",
    "    print('음수입니다')\n",
    "if num == 0:\n",
    "    print('0입니다.')"
   ]
  },
  {
   "cell_type": "code",
   "execution_count": 8,
   "id": "27fba9b1",
   "metadata": {},
   "outputs": [
    {
     "name": "stdout",
     "output_type": "stream",
     "text": [
      "2022-01-28 14:33:13.137168\n",
      "2022 년\n",
      "1 월\n",
      "28 일\n",
      "14 시\n",
      "33 분\n",
      "13 초\n"
     ]
    }
   ],
   "source": [
    "# 날짜/시간과 관련된 기능을 가져온다.\n",
    "\n",
    "import datetime\n",
    "\n",
    "# 현재의 날짜와 시간을 구하는 함수\n",
    "now = datetime.datetime.now()\n",
    "\n",
    "print(now)\n",
    "print(now.year,'년')\n",
    "print(now.month,'월')\n",
    "print(now.day,'일')\n",
    "print(now.hour,'시')\n",
    "print(now.minute,'분')\n",
    "print(now.second,'초')"
   ]
  },
  {
   "cell_type": "code",
   "execution_count": 13,
   "id": "4e5357d3",
   "metadata": {},
   "outputs": [
    {
     "name": "stdout",
     "output_type": "stream",
     "text": [
      "현재 시각은 14시 39분 오후입니다.\n"
     ]
    }
   ],
   "source": [
    "# 현재 시각은 14시로 오후입니다.\n",
    "import datetime\n",
    "\n",
    "now = datetime.datetime.now()\n",
    "mi = ''\n",
    "if now.hour <= 12 :\n",
    "    mi = '오전'\n",
    "else:\n",
    "    mi = '오후'\n",
    "\n",
    "print(f'현재 시각은 {now.hour}시 {now.minute}분 {mi}입니다.')"
   ]
  },
  {
   "cell_type": "code",
   "execution_count": 18,
   "id": "f6b27dae",
   "metadata": {},
   "outputs": [
    {
     "name": "stdout",
     "output_type": "stream",
     "text": [
      "이번 달은 1월로 겨울입니다.\n"
     ]
    }
   ],
   "source": [
    "import datetime\n",
    "now = datetime.datetime.now()\n",
    "Season = \"\"\n",
    "\n",
    "if now.month == 12 or now.month <= 2:\n",
    "    Season = \"겨울\"\n",
    "\n",
    "if 3 <= now.month <= 5:\n",
    "    Season = '봄'\n",
    "    \n",
    "if 6 <= now.month <= 8:\n",
    "    Season = '여름'\n",
    "\n",
    "if 9 <= now.month <= 11:\n",
    "    Season = '가을'\n",
    "\n",
    "    \n",
    "print(f'이번 달은 {now.month}월로 {Season}입니다.')"
   ]
  },
  {
   "cell_type": "code",
   "execution_count": 27,
   "id": "e3c3a124",
   "metadata": {},
   "outputs": [
    {
     "name": "stdout",
     "output_type": "stream",
     "text": [
      "정수를 입력하세요 >>> 2\n",
      "짝수 입니다.\n"
     ]
    }
   ],
   "source": [
    "# % 연산자를 사용하지 않고\n",
    "# 정수를 입력받아 그 수가 짝수인지 홀수인지를 알려주는 프로그램 작성\n",
    "\n",
    "num = input('정수를 입력하세요 >>> ')\n",
    "\n",
    "if num[-1] in '02468' :\n",
    "    print('짝수 입니다.')\n",
    "    \n",
    "if num[-1] in '13579':\n",
    "    print('홀수 입니다.')"
   ]
  },
  {
   "cell_type": "code",
   "execution_count": 28,
   "id": "8933444d",
   "metadata": {},
   "outputs": [
    {
     "name": "stdout",
     "output_type": "stream",
     "text": [
      "정수 입력 >> 12\n"
     ]
    }
   ],
   "source": [
    "# pass\n",
    "number = int(input('정수 입력 >> '))\n",
    "if number > 0:\n",
    "    pass\n",
    "else: \n",
    "    pass"
   ]
  },
  {
   "cell_type": "code",
   "execution_count": 30,
   "id": "361eb1cb",
   "metadata": {},
   "outputs": [
    {
     "name": "stdout",
     "output_type": "stream",
     "text": [
      "3\n",
      "4\n",
      "5\n"
     ]
    }
   ],
   "source": [
    "# 리스트와 반복문\n",
    "\n",
    "li = [1,2,3,4,5] # collection, mutable, ordered\n",
    "\n",
    "for i in li:\n",
    "    if i >= 3:\n",
    "        print(i)"
   ]
  },
  {
   "cell_type": "code",
   "execution_count": 34,
   "id": "62255b95",
   "metadata": {},
   "outputs": [
    {
     "name": "stdout",
     "output_type": "stream",
     "text": [
      "이몽룡\n"
     ]
    }
   ],
   "source": [
    "# 딕셔너리와 반복문\n",
    "\n",
    "dict = {\n",
    "    1:'홍길동',\n",
    "    2:'이몽룡'\n",
    "}\n",
    "\n",
    "print(dict[2])"
   ]
  },
  {
   "cell_type": "code",
   "execution_count": 35,
   "id": "fe5a13f7",
   "metadata": {},
   "outputs": [
    {
     "name": "stdout",
     "output_type": "stream",
     "text": [
      "1 홍길동\n",
      "2 이몽룡\n"
     ]
    }
   ],
   "source": [
    "for i in dict:\n",
    "    print(i, dict[i])"
   ]
  },
  {
   "cell_type": "code",
   "execution_count": null,
   "id": "ac32ec1a",
   "metadata": {},
   "outputs": [],
   "source": [
    "list(range(0,5)) # 시작을 생략하면 0부터 5미만까지, 중간값을 생략하면 1씩 증가"
   ]
  },
  {
   "cell_type": "code",
   "execution_count": 39,
   "id": "de7929ac",
   "metadata": {},
   "outputs": [
    {
     "name": "stdout",
     "output_type": "stream",
     "text": [
      "2번째 반복\n",
      "1번째 반복\n",
      "0번째 반복\n"
     ]
    }
   ],
   "source": [
    "# for : 반복 횟수를 정확히 알 수 있을 때 주로 사용\n",
    "# while : 반복 횟수를 정확히 알 수 없을 때 주로 사용\n",
    "\n",
    "# while 1, for 1\n",
    "\n",
    "# 0번째 반복\n",
    "# 1번째 반복\n",
    "# 2번째 반복\n",
    "\n",
    "for i in range(2,-1,-1):\n",
    "    print(f'{i}번째 반복')\n",
    "    \n",
    "# n = 0    \n",
    "# while n < 3:\n",
    "#     print(f'{n}번째 반복')\n",
    "#     n += 1"
   ]
  },
  {
   "cell_type": "code",
   "execution_count": 40,
   "id": "a484e052",
   "metadata": {},
   "outputs": [
    {
     "name": "stdout",
     "output_type": "stream",
     "text": [
      "0번째 반복입니다.\n",
      "종료할까요 (y) >> n\n",
      "1번째 반복입니다.\n",
      "종료할까요 (y) >> n\n",
      "2번째 반복입니다.\n",
      "종료할까요 (y) >> n\n",
      "3번째 반복입니다.\n",
      "종료할까요 (y) >> n\n",
      "4번째 반복입니다.\n",
      "종료할까요 (y) >> n\n",
      "5번째 반복입니다.\n",
      "종료할까요 (y) >> n\n",
      "6번째 반복입니다.\n",
      "종료할까요 (y) >> y\n",
      "반복을 종료합니다.\n"
     ]
    }
   ],
   "source": [
    "# break / continue\n",
    "\n",
    "# break 반복문 종료\n",
    "\n",
    "i = 0\n",
    "\n",
    "while True:\n",
    "    print(f'{i}번째 반복입니다.')\n",
    "    i += 1\n",
    "    \n",
    "    inp = input('종료할까요 (y) >> ')\n",
    "    if inp in ['Y','y']:\n",
    "        print('반복을 종료합니다.')\n",
    "        break\n"
   ]
  },
  {
   "cell_type": "code",
   "execution_count": 43,
   "id": "88bdd58c",
   "metadata": {},
   "outputs": [
    {
     "name": "stdout",
     "output_type": "stream",
     "text": [
      "1\n",
      "3\n",
      "5\n",
      "7\n",
      "9\n"
     ]
    }
   ],
   "source": [
    "# continue 현재 반복을 중지하고 다음 반복으로 넘어갈 때 사용\n",
    "# 전체 반복에서 부분을 빼고 일부만 실행 할 때 사용\n",
    "\n",
    "for num in range(1,11):\n",
    "    if num % 2 == 0:\n",
    "        continue\n",
    "    print(num)"
   ]
  },
  {
   "cell_type": "code",
   "execution_count": 53,
   "id": "00e7a046",
   "metadata": {},
   "outputs": [
    {
     "name": "stdout",
     "output_type": "stream",
     "text": [
      "1번 진구\n",
      "2번 철수\n",
      "3번 미애\n",
      "4번 형구\n",
      "5번 진수\n"
     ]
    }
   ],
   "source": [
    "# enumerate() 리스트의 요소를 반복할 때 현재 인덱스가 몇 번째인지 확인\n",
    "\n",
    "student = ['진구','철수','미애','형구','진수']\n",
    "# no = 0\n",
    "# for i in student:\n",
    "#     print(f'{no}번 {i}')\n",
    "#     no += 1\n",
    "\n",
    "\n",
    "for no,name in enumerate(student):  # 순서는 항상 키key와 벨류value로\n",
    "    print(f'{no+1}번 {name}')"
   ]
  },
  {
   "cell_type": "code",
   "execution_count": 57,
   "id": "6e629a73",
   "metadata": {},
   "outputs": [
    {
     "name": "stdout",
     "output_type": "stream",
     "text": [
      "홍길동의 키는 185입니다.\n",
      "이몽룡의 키는 189입니다.\n",
      "성춘향의 키는 168입니다.\n"
     ]
    }
   ],
   "source": [
    "# items() 딕셔너리는 items() 함수를 사용하여 key와 value 값을\n",
    "\n",
    "dict = {\n",
    "    '홍길동':185,\n",
    "    '이몽룡':189,\n",
    "    '성춘향':168\n",
    "}\n",
    "\n",
    "# for i in dict:\n",
    "#     print(f'{i}의 키는 {dict[i]}입니다.')\n",
    "\n",
    "for n,h in dict.items():  # 순서는 항상 키key와 벨류value로\n",
    "    print(f'{n}의 키는 {h}입니다.')"
   ]
  },
  {
   "cell_type": "code",
   "execution_count": 58,
   "id": "83e7bcf2",
   "metadata": {},
   "outputs": [
    {
     "data": {
      "text/plain": [
       "[0, 2, 4, 6, 8, 10, 12, 14, 16, 18]"
      ]
     },
     "execution_count": 58,
     "metadata": {},
     "output_type": "execute_result"
    }
   ],
   "source": [
    "# 리스트 내포 list comperhensions\n",
    "\n",
    "array = []\n",
    "\n",
    "for i in range(0,20,2):\n",
    "    array.append(i)\n",
    "    \n",
    "array"
   ]
  },
  {
   "cell_type": "code",
   "execution_count": 59,
   "id": "e8a8c993",
   "metadata": {},
   "outputs": [
    {
     "name": "stdout",
     "output_type": "stream",
     "text": [
      "[0, 2, 4, 6, 8, 10, 12, 14, 16, 18]\n"
     ]
    }
   ],
   "source": [
    "array = [i for i in range(0,20,2)]  # 리스트 내에 조건까지 걸 수 있다.\n",
    "print(array)"
   ]
  },
  {
   "cell_type": "code",
   "execution_count": 64,
   "id": "c0a92b06",
   "metadata": {},
   "outputs": [
    {
     "name": "stdout",
     "output_type": "stream",
     "text": [
      "['사과', '체리', '바나나']\n",
      "['사과', '체리', '과자']\n"
     ]
    }
   ],
   "source": [
    "array = ['사과','체리','바나나','과자']\n",
    "\n",
    "output = [  i    for i in array   if i !='과자'] # 조건은 맨 끝에\n",
    "\n",
    "print(output)\n",
    "\n",
    "test = [ i for i in array if len(i) == 2]\n",
    "print(test)"
   ]
  },
  {
   "cell_type": "code",
   "execution_count": null,
   "id": "96bf3707",
   "metadata": {},
   "outputs": [],
   "source": []
  }
 ],
 "metadata": {
  "kernelspec": {
   "display_name": "Python 3 (ipykernel)",
   "language": "python",
   "name": "python3"
  },
  "language_info": {
   "codemirror_mode": {
    "name": "ipython",
    "version": 3
   },
   "file_extension": ".py",
   "mimetype": "text/x-python",
   "name": "python",
   "nbconvert_exporter": "python",
   "pygments_lexer": "ipython3",
   "version": "3.9.7"
  }
 },
 "nbformat": 4,
 "nbformat_minor": 5
}
