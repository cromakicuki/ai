{
  "nbformat": 4,
  "nbformat_minor": 0,
  "metadata": {
    "colab": {
      "name": "22-01-25.ipynb",
      "provenance": [],
      "authorship_tag": "ABX9TyNWX6NcW+mI/gAMF0H/aeVW",
      "include_colab_link": true
    },
    "kernelspec": {
      "name": "python3",
      "display_name": "Python 3"
    },
    "language_info": {
      "name": "python"
    }
  },
  "cells": [
    {
      "cell_type": "markdown",
      "metadata": {
        "id": "view-in-github",
        "colab_type": "text"
      },
      "source": [
        "<a href=\"https://colab.research.google.com/github/cromakicuki/ai/blob/main/22_01_25.ipynb\" target=\"_parent\"><img src=\"https://colab.research.google.com/assets/colab-badge.svg\" alt=\"Open In Colab\"/></a>"
      ]
    },
    {
      "cell_type": "code",
      "execution_count": null,
      "metadata": {
        "colab": {
          "base_uri": "https://localhost:8080/"
        },
        "id": "3F1WGsFVxTBX",
        "outputId": "4c0b1a67-3275-4d04-e05e-9e737f20728f"
      },
      "outputs": [
        {
          "output_type": "stream",
          "name": "stdout",
          "text": [
            "Hello world\n"
          ]
        }
      ],
      "source": [
        "#############\n",
        "# 주석 comment\n",
        "#############\n",
        "\n",
        "''' \n",
        "작성자: \n",
        "작성일: 22.01.25\n",
        "버전: 0.1\n",
        "'''\n",
        "\n",
        "# 쌍따옴표와 따옴표는 동일하게 사용된다. \"\"\"내용\"\"\" / '''내용'''\n",
        "# 보통 삼중 따옴표는 \n",
        "# 주석으로 여러 줄을 작성할 때 사용한다. \n",
        "# 한번에 주석을 붙일 때에는 컨트롤+슬래시를 사용.\n",
        "\n",
        "\n",
        "# 주석 붙이는 위치\n",
        "print('Hello world') # 보통은 행의 우측 또는 위에 주석을 붙인다."
      ]
    },
    {
      "cell_type": "code",
      "source": [
        "#############\n",
        "# 변수 Variable\n",
        "#############\n",
        "\n",
        "score = 100\n",
        "print(score)\n",
        "score = 200\n",
        "print(score)"
      ],
      "metadata": {
        "colab": {
          "base_uri": "https://localhost:8080/"
        },
        "id": "ImAZ-I87_U5z",
        "outputId": "81eb0055-1548-41c9-e1b6-a5ede939fffc"
      },
      "execution_count": null,
      "outputs": [
        {
          "output_type": "stream",
          "name": "stdout",
          "text": [
            "100\n",
            "200\n"
          ]
        }
      ]
    },
    {
      "cell_type": "code",
      "source": [
        "a = 1\n",
        "A = 2\n",
        "\n",
        "print(a)\n",
        "print(A)"
      ],
      "metadata": {
        "colab": {
          "base_uri": "https://localhost:8080/"
        },
        "id": "QQoo_sKNAdOn",
        "outputId": "1304edbc-cc72-48ac-9610-cae3b3fd50ba"
      },
      "execution_count": null,
      "outputs": [
        {
          "output_type": "stream",
          "name": "stdout",
          "text": [
            "3\n"
          ]
        }
      ]
    },
    {
      "cell_type": "code",
      "source": [
        "name = 'Alice'\n",
        "age = 25\n",
        "address = ''' 우편번호 12345\n",
        "서울시 영등포구 여의도동\n",
        "서울빌딩 501호'''\n",
        "boyfriend = None\n",
        "height = 168.5\n",
        "\n",
        "print(name)\n",
        "print(age)\n",
        "print(address)\n",
        "print(boyfriend)\n",
        "print(height)"
      ],
      "metadata": {
        "colab": {
          "base_uri": "https://localhost:8080/"
        },
        "id": "WYMMMcUSDIpI",
        "outputId": "38759162-cf41-4c96-b11d-543d56325f59"
      },
      "execution_count": null,
      "outputs": [
        {
          "output_type": "stream",
          "name": "stdout",
          "text": [
            "Alice\n",
            "25\n",
            " 우편번호 12345\n",
            "서울시 영등포구 여의도동\n",
            "서울빌딩 501호\n",
            "None\n",
            "168.5\n"
          ]
        }
      ]
    },
    {
      "cell_type": "code",
      "source": [
        "#############\n",
        "# 기본 자료형  type\n",
        "#############\n",
        "\n",
        "a = float(False)\n",
        "print(a)"
      ],
      "metadata": {
        "id": "wSpGDxNyEBx1",
        "colab": {
          "base_uri": "https://localhost:8080/"
        },
        "outputId": "eb7b5cd8-c941-4c11-fdc9-c150161b7ab1"
      },
      "execution_count": 9,
      "outputs": [
        {
          "output_type": "stream",
          "name": "stdout",
          "text": [
            "0.0\n"
          ]
        }
      ]
    },
    {
      "cell_type": "code",
      "source": [
        "# 논리 bool  성공 실패(True False)\n",
        "\n",
        "a = bool(0)\n",
        "print(a)\n",
        "b = bool()\n",
        "print(b)\n"
      ],
      "metadata": {
        "id": "bpHge1Tyae6T"
      },
      "execution_count": null,
      "outputs": []
    },
    {
      "cell_type": "code",
      "source": [
        "# 문자열 인덱싱\n",
        "\n",
        "ss = \"990211-1005432\"\n",
        "print(ss[-7])\n",
        "print(ss[0:2]) # 0번째에서 2번째 미만까지\n",
        "print(ss[0:6])\n",
        "print(ss[0:10:2])"
      ],
      "metadata": {
        "colab": {
          "base_uri": "https://localhost:8080/"
        },
        "id": "SYWgqcbFcL75",
        "outputId": "c269429b-7ab1-466d-e140-dc4805e09933"
      },
      "execution_count": 14,
      "outputs": [
        {
          "output_type": "stream",
          "name": "stdout",
          "text": [
            "1\n",
            "99\n",
            "990211\n",
            "901-0\n"
          ]
        }
      ]
    },
    {
      "cell_type": "code",
      "source": [
        "# print\n",
        "\n",
        "print('Hello World')\n",
        "print('Hello \"World\"')\n",
        "print('Hello \\'World\\'')"
      ],
      "metadata": {
        "colab": {
          "base_uri": "https://localhost:8080/"
        },
        "id": "A3IFmc0rgdrf",
        "outputId": "f7d66888-51f2-4c05-95f8-ddf97d4cf81c"
      },
      "execution_count": 17,
      "outputs": [
        {
          "output_type": "stream",
          "name": "stdout",
          "text": [
            "Hello World\n",
            "Hello \"World\"\n",
            "Hello 'World'\n"
          ]
        }
      ]
    },
    {
      "cell_type": "code",
      "source": [
        "print('Hello\\n \"World\"')"
      ],
      "metadata": {
        "colab": {
          "base_uri": "https://localhost:8080/"
        },
        "id": "V3mmRGypiF0h",
        "outputId": "5201874d-1f4a-4fd5-a095-4fd2e6e0b8fa"
      },
      "execution_count": 18,
      "outputs": [
        {
          "output_type": "stream",
          "name": "stdout",
          "text": [
            "Hello\n",
            " \"World\"\n"
          ]
        }
      ]
    },
    {
      "cell_type": "code",
      "source": [
        "print(\"이름 \\n전화\")\n",
        "print(\"이름\\t전화\\t주소\")"
      ],
      "metadata": {
        "colab": {
          "base_uri": "https://localhost:8080/"
        },
        "id": "9jDXq-ERiZVK",
        "outputId": "17efaf59-553e-40bb-f429-520296670d51"
      },
      "execution_count": 21,
      "outputs": [
        {
          "output_type": "stream",
          "name": "stdout",
          "text": [
            "이름 \n",
            "전화\n",
            "이름\t전화\t주소\n"
          ]
        }
      ]
    },
    {
      "cell_type": "code",
      "source": [
        "print('재미있는','파이썬','교실')"
      ],
      "metadata": {
        "colab": {
          "base_uri": "https://localhost:8080/"
        },
        "id": "mqpSm7JojW46",
        "outputId": "76616eee-25a7-419d-c111-1590e399c1a4"
      },
      "execution_count": 23,
      "outputs": [
        {
          "output_type": "stream",
          "name": "stdout",
          "text": [
            "재미있는 파이썬 교실\n"
          ]
        }
      ]
    },
    {
      "cell_type": "code",
      "source": [
        "print('평점', end=':')\n",
        "print('5점')"
      ],
      "metadata": {
        "colab": {
          "base_uri": "https://localhost:8080/"
        },
        "id": "5H_ay2xijmqZ",
        "outputId": "1668e8ac-47d1-4bc9-8889-30d1e96eb731"
      },
      "execution_count": 25,
      "outputs": [
        {
          "output_type": "stream",
          "name": "stdout",
          "text": [
            "평점:5점\n"
          ]
        }
      ]
    },
    {
      "cell_type": "code",
      "source": [
        "print('국어','영어','수학')\n",
        "print('국어','영어','수학', sep= '/')\n",
        "print('국어','영어','수학', sep= ',')\n",
        "print('국어','영어','수학', sep= '\\n')\n",
        "print('\\n국어\\n영어\\n수학')"
      ],
      "metadata": {
        "colab": {
          "base_uri": "https://localhost:8080/"
        },
        "id": "Xm-AOj4iopnN",
        "outputId": "8df174c6-af5f-4d0e-9acf-20d91a78366b"
      },
      "execution_count": 30,
      "outputs": [
        {
          "output_type": "stream",
          "name": "stdout",
          "text": [
            "국어 영어 수학\n",
            "국어/영어/수학\n",
            "국어,영어,수학\n",
            "국어\n",
            "영어\n",
            "수학\n",
            "\n",
            "국어\n",
            "영어\n",
            "수학\n"
          ]
        }
      ]
    },
    {
      "cell_type": "code",
      "source": [
        "# %연산자\n",
        "\n",
        "print(10)\n",
        "print('%d' % 10)\n",
        "print('%f' % 3.14) \n",
        "print('%s' % '배고파') \n",
        "std = '마마'\n",
        "print('제가 제일 좋아하는 노래는 %s 입니다' % std) "
      ],
      "metadata": {
        "colab": {
          "base_uri": "https://localhost:8080/"
        },
        "id": "OVQkoH5eqSvV",
        "outputId": "d350b4aa-50f4-4dc1-afcf-1f5184476cef"
      },
      "execution_count": 34,
      "outputs": [
        {
          "output_type": "stream",
          "name": "stdout",
          "text": [
            "10\n",
            "10\n",
            "3.140000\n",
            "배고파\n",
            "제가 제일 좋아하는 노래는 마마 입니다\n"
          ]
        }
      ]
    },
    {
      "cell_type": "code",
      "source": [
        "print(\"%d\" % 1)\n",
        "print(\"%5d\" % 1)\n",
        "print(\"%-5d\" % 1)\n",
        "print(\"%-5d\" % 111)\n",
        "print(\"%5d\" % 111)"
      ],
      "metadata": {
        "colab": {
          "base_uri": "https://localhost:8080/"
        },
        "id": "V18k8ZrztUG1",
        "outputId": "1fb27ff0-96e5-4e80-c313-84b39f805034"
      },
      "execution_count": 37,
      "outputs": [
        {
          "output_type": "stream",
          "name": "stdout",
          "text": [
            "1\n",
            "    1\n",
            "1    \n",
            "111  \n",
            "  111\n"
          ]
        }
      ]
    },
    {
      "cell_type": "code",
      "source": [
        "print('졸리다 %5f만큼' % 3.14) \n",
        "print('졸리다 %5.1f만큼' % 3.14) "
      ],
      "metadata": {
        "colab": {
          "base_uri": "https://localhost:8080/"
        },
        "id": "OtiN-GseuDy8",
        "outputId": "c9592ba6-b50f-404b-9c65-efdb19238e23"
      },
      "execution_count": 41,
      "outputs": [
        {
          "output_type": "stream",
          "name": "stdout",
          "text": [
            "졸리다 3.140000만큼\n",
            "졸리다   3.1만큼\n"
          ]
        }
      ]
    },
    {
      "cell_type": "code",
      "source": [
        "# format()\n",
        "zipcode = '06236'\n",
        "print('우편번호 : %s' % zipcode)\n",
        "print('우편번호 : {}' .format(zipcode))"
      ],
      "metadata": {
        "colab": {
          "base_uri": "https://localhost:8080/"
        },
        "id": "2b_QwahRwmhU",
        "outputId": "7b5beefe-c3fd-4c07-839a-ef01de99f66f"
      },
      "execution_count": 42,
      "outputs": [
        {
          "output_type": "stream",
          "name": "stdout",
          "text": [
            "우편번호 : 06236\n",
            "우편번호 : 06236\n"
          ]
        }
      ]
    },
    {
      "cell_type": "code",
      "source": [
        "print('My name is {}. I\\'m {} years old.' .format('james', 25))\n",
        "print('My name is {1}. I\\'m {0} years old.' .format('james', 25))\n",
        "print('My name is {name}. I\\'m {age} years old.' .format(name='james', age=25))\n"
      ],
      "metadata": {
        "colab": {
          "base_uri": "https://localhost:8080/"
        },
        "id": "HBeF1b6J2E9i",
        "outputId": "278c12d9-23a1-4391-f24f-237f02bfbab7"
      },
      "execution_count": 43,
      "outputs": [
        {
          "output_type": "stream",
          "name": "stdout",
          "text": [
            "My name is james. I'm 25 years old.\n",
            "My name is 25. I'm james years old.\n",
            "My name is james. I'm 25 years old.\n"
          ]
        }
      ]
    },
    {
      "cell_type": "code",
      "source": [
        "# f-strings\n",
        "# 파이썬 3.6 이후부터 사용가능\n",
        "\n",
        "who = 'you'\n",
        "how = 'happy'\n",
        "print(f'{who} make me {how}')"
      ],
      "metadata": {
        "colab": {
          "base_uri": "https://localhost:8080/"
        },
        "id": "dYwTpIHW24TM",
        "outputId": "24334361-953f-4c37-da7d-53963cfa2fd8"
      },
      "execution_count": 44,
      "outputs": [
        {
          "output_type": "stream",
          "name": "stdout",
          "text": [
            "you make me happy\n"
          ]
        }
      ]
    },
    {
      "cell_type": "code",
      "source": [
        "age = 25\n",
        "print(f'내년에는 {age+1} 입니다.')"
      ],
      "metadata": {
        "colab": {
          "base_uri": "https://localhost:8080/"
        },
        "id": "Pqc81bnb3qos",
        "outputId": "f7b007c1-ce9b-436c-d287-e277df6f25db"
      },
      "execution_count": 46,
      "outputs": [
        {
          "output_type": "stream",
          "name": "stdout",
          "text": [
            "내년에는 26 입니다.\n"
          ]
        }
      ]
    },
    {
      "cell_type": "code",
      "source": [
        "#############\n",
        "# 입력 input()\n",
        "#############\n",
        "\n",
        "n = input()\n",
        "print(f'당신이 입력한 내용은 \"{n}\" 입니다.')\n",
        "print('당신이 입력한 내용은', n, '입니다.')"
      ],
      "metadata": {
        "colab": {
          "base_uri": "https://localhost:8080/"
        },
        "id": "2SMA5rR74TuU",
        "outputId": "1e4354f8-28b1-470e-d2b2-c7e54add9e98"
      },
      "execution_count": 49,
      "outputs": [
        {
          "output_type": "stream",
          "name": "stdout",
          "text": [
            "헤이\n",
            "당신이 입력한 내용은 \"헤이\" 입니다.\n",
            "당신이 입력한 내용은 헤이 입니다.\n"
          ]
        }
      ]
    },
    {
      "cell_type": "code",
      "source": [
        "n = input('당신의 캐릭터를 픽업하세요 ')\n",
        "print(f'당신의 캐릭터는 \"{n}\" 입니다.')\n",
        "print('당신이 캐릭터는', n, '입니다.')"
      ],
      "metadata": {
        "colab": {
          "base_uri": "https://localhost:8080/"
        },
        "id": "z8hnw_RI5Jou",
        "outputId": "445c52fe-a2b7-4b41-ad0f-c16035158cbf"
      },
      "execution_count": 51,
      "outputs": [
        {
          "output_type": "stream",
          "name": "stdout",
          "text": [
            "당신의 캐릭터를 픽업하세요 ㅇㅅ오\n",
            "당신의 캐릭터는 \"ㅇㅅ오\" 입니다.\n",
            "당신이 캐릭터는 ㅇㅅ오 입니다.\n"
          ]
        }
      ]
    },
    {
      "cell_type": "code",
      "source": [
        "name = input('당신의 이름을 입력하세요? ')\n",
        "age = input('당신의 나이를 입력하세요? ')\n",
        "print(f'당신의 이름은 {name}이고 나이는 {age}입니다. ')"
      ],
      "metadata": {
        "colab": {
          "base_uri": "https://localhost:8080/"
        },
        "id": "ZO9ozMGZ5dax",
        "outputId": "90a5e4be-42dd-4e6a-c9be-a91e3937b1b7"
      },
      "execution_count": 54,
      "outputs": [
        {
          "output_type": "stream",
          "name": "stdout",
          "text": [
            "당신의 이름을 입력하세요? ?\n",
            "당신의 나이를 입력하세요? ?\n",
            "당신의 이름은 ?이고 나이는 ?입니다. \n"
          ]
        }
      ]
    },
    {
      "cell_type": "code",
      "source": [
        "name = input('이름을 입력하세요 ')\n",
        "age = input('나이를 입력하세요 ')\n",
        "\n",
        "print('당신의 이름은 %s이고 나이는 %s입니다.' % (name,age))\n",
        "\n",
        "print('당신의 이름은 {}이고 나이는 {}입니다.' .format(name,age))\n",
        "\n",
        "print('당신의 이름은',name,'이고 나이는',age,'입니다.')\n",
        "\n",
        "print(f'당신의 이름은 {name}이고 나이는 {age}입니다. ')\n",
        "\n",
        "print(name, type(name))\n",
        "print(age, type(age))"
      ],
      "metadata": {
        "colab": {
          "base_uri": "https://localhost:8080/"
        },
        "id": "jHTp_Kh-6JSB",
        "outputId": "0f248688-0b80-49f2-abf7-3c72f3f65143"
      },
      "execution_count": 64,
      "outputs": [
        {
          "output_type": "stream",
          "name": "stdout",
          "text": [
            "이름을 입력하세요 112\n",
            "나이를 입력하세요 211\n",
            "당신의 이름은 112이고 나이는 211입니다.\n",
            "당신의 이름은 112이고 나이는 211입니다.\n",
            "당신의 이름은 112 이고 나이는 211 입니다.\n",
            "당신의 이름은 112이고 나이는 211입니다. \n",
            "112 <class 'str'>\n",
            "211 <class 'str'>\n"
          ]
        }
      ]
    },
    {
      "cell_type": "code",
      "source": [
        "frice = int(input('할부 개월 입력 : '))\n",
        "sum = 50000\n",
        "monthly = round(sum/frice,2)\n",
        "\n",
        "print(frice,'개월 동안 매달 내는 금액은',monthly,'입니다.')\n",
        "print('{}개월 동안 매달 내는 금액은 {}입니다.' .format(frice,monthly))\n",
        "print('%d개월 동안 매달 내는 금액은 %s입니다.' % (frice,monthly))\n",
        "print(f'{frice}개월 동안 내는 금액은 {monthly} 입니다.')"
      ],
      "metadata": {
        "colab": {
          "base_uri": "https://localhost:8080/"
        },
        "id": "3YRD_LRk9z95",
        "outputId": "e1fd36a6-1b7f-45e4-a2d9-b8963c59e312"
      },
      "execution_count": 73,
      "outputs": [
        {
          "output_type": "stream",
          "name": "stdout",
          "text": [
            "할부 개월 입력 : 5\n",
            "5 개월 동안 매달 내는 금액은 10000.0 입니다.\n",
            "5개월 동안 매달 내는 금액은 10000.0입니다.\n",
            "5개월 동안 매달 내는 금액은 10000.0입니다.\n",
            "5개월 동안 내는 금액은 10000.0 입니다.\n"
          ]
        }
      ]
    },
    {
      "cell_type": "code",
      "source": [
        "a = float(input('소수점을 포함한 숫자를 입력하시오 '))\n",
        "b = float(input('앞서 입력한 숫자와 다른 소수점을 포함한 숫자를 입력하시오 '))\n",
        "c = a+b\n",
        "\n",
        "print(a,'과',b,'의 합계는',c,'입니다.')\n",
        "print({})"
      ],
      "metadata": {
        "id": "0Ig2-793FEvZ"
      },
      "execution_count": null,
      "outputs": []
    }
  ]
}
