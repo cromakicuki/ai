{
 "cells": [
  {
   "cell_type": "code",
   "execution_count": 1,
   "id": "42223ce4",
   "metadata": {},
   "outputs": [
    {
     "name": "stdout",
     "output_type": "stream",
     "text": [
      "5\n"
     ]
    }
   ],
   "source": [
    "# 문자열의 길이 구하기\n",
    "print(len('안녕하세요'))"
   ]
  },
  {
   "cell_type": "code",
   "execution_count": 2,
   "id": "a313dfa4",
   "metadata": {},
   "outputs": [
    {
     "name": "stdout",
     "output_type": "stream",
     "text": [
      "True\n"
     ]
    }
   ],
   "source": [
    "# 조건문 \n",
    "# bool & if\n",
    "\n",
    "print(True)"
   ]
  },
  {
   "cell_type": "code",
   "execution_count": 4,
   "id": "75cf3560",
   "metadata": {},
   "outputs": [
    {
     "name": "stdout",
     "output_type": "stream",
     "text": [
      "False\n",
      "True\n"
     ]
    }
   ],
   "source": [
    "print(10==100)\n",
    "print(10 != 100)\n",
    "print(10 < 100)\n",
    "print(10>=100)"
   ]
  },
  {
   "cell_type": "code",
   "execution_count": null,
   "id": "29cd869e",
   "metadata": {},
   "outputs": [],
   "source": []
  }
 ],
 "metadata": {
  "kernelspec": {
   "display_name": "Python 3 (ipykernel)",
   "language": "python",
   "name": "python3"
  },
  "language_info": {
   "codemirror_mode": {
    "name": "ipython",
    "version": 3
   },
   "file_extension": ".py",
   "mimetype": "text/x-python",
   "name": "python",
   "nbconvert_exporter": "python",
   "pygments_lexer": "ipython3",
   "version": "3.9.7"
  }
 },
 "nbformat": 4,
 "nbformat_minor": 5
}
