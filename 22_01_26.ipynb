{
  "nbformat": 4,
  "nbformat_minor": 0,
  "metadata": {
    "colab": {
      "name": "22-01-26.ipynb",
      "provenance": [],
      "collapsed_sections": [],
      "authorship_tag": "ABX9TyP2PXSTTztTP8YFxt8t6R2P",
      "include_colab_link": true
    },
    "kernelspec": {
      "name": "python3",
      "display_name": "Python 3"
    },
    "language_info": {
      "name": "python"
    }
  },
  "cells": [
    {
      "cell_type": "markdown",
      "metadata": {
        "id": "view-in-github",
        "colab_type": "text"
      },
      "source": [
        "<a href=\"https://colab.research.google.com/github/cromakicuki/ai/blob/main/22_01_26.ipynb\" target=\"_parent\"><img src=\"https://colab.research.google.com/assets/colab-badge.svg\" alt=\"Open In Colab\"/></a>"
      ]
    },
    {
      "cell_type": "code",
      "execution_count": null,
      "metadata": {
        "colab": {
          "base_uri": "https://localhost:8080/"
        },
        "id": "QAYZeiMUro-b",
        "outputId": "8d5643d8-b6f2-4250-bec9-8c8dc256154c"
      },
      "outputs": [
        {
          "output_type": "stream",
          "name": "stdout",
          "text": [
            "Hell World\n"
          ]
        }
      ],
      "source": [
        "#############################################\n",
        "# 복습\n",
        "#############################################\n",
        "\n",
        "# Comment 주석 - 코드에 대한 설명, 컴퓨터는 읽지 않고 사람만 읽는 내용.\n",
        "# 또 다른 용법으로는 코드를 임시로 실행하지 않고 감추고 에러를 확인하는 용도로도 사용된다.\n",
        "# 본인이 기록한 내용을 나중에 확인할 때 또는 다른 팀원이 작성한 내용을 파악하기 용이하게 만든다.\n",
        "\n",
        "# #을 사용하여 주석을 표시한다. (아예 읽히지 않는 것.) ('ctrl+/')\n",
        "# Doc string (주석의 용도로도 쓰이는 것. 컴퓨터가 읽는다.)\n",
        "'''\n",
        "작성일 : 2022/01/26\n",
        "담당자 : 홍길동\n",
        "비고 : (연락처)\n",
        "'''\n",
        "\"\"\"\n",
        "작성일 : 2022/01/26\n",
        "담당자 : 홍길동\n",
        "비고 : (연락처)\n",
        "\"\"\"\n",
        "# 코드의 윗쪽 또는 오른쪽에 주석을 붙인다.\n",
        "print('Hell World') # 코드의 우측 또는 코드의 윗줄에 적는다."
      ]
    },
    {
      "cell_type": "code",
      "source": [
        "# 변수 Variable\n",
        "# 어떤 값을 저장하는 저장소 (a-적 설명)\n",
        "a = 100 \n",
        "print(a)\n",
        "\n",
        "stumathsum = 350\n",
        "stu_math_sum = 350 # 스네이크 케이스 snake_case (단어마다 언더바를 넣어주는 것. 뱀을 닮았다고 하여 스네이크)\n",
        "StuMathSum = 350 # 캐멀 케이스 CamelCase (단어의 첫 글자마다 대문자를 넣어주는 것. 낙타를 닮았다고 하여 캐멀)"
      ],
      "metadata": {
        "colab": {
          "base_uri": "https://localhost:8080/"
        },
        "id": "M6rZtu6sw7CW",
        "outputId": "530074a8-9fc4-46dd-e06d-feb4eb406b66"
      },
      "execution_count": null,
      "outputs": [
        {
          "output_type": "stream",
          "name": "stdout",
          "text": [
            "100\n"
          ]
        }
      ]
    },
    {
      "cell_type": "code",
      "source": [
        "# 1a = 100 변수명에 숫자가 먼저 올 순 없다.\n",
        "a1 = 100"
      ],
      "metadata": {
        "id": "SA1dlukvyyrp"
      },
      "execution_count": null,
      "outputs": []
    },
    {
      "cell_type": "code",
      "source": [
        "_a = 100\n",
        "# !a = 100 변수명에 특수문자가 먼저 올 순 없다. (언더바 제외)"
      ],
      "metadata": {
        "id": "9Y3sM8Zwy8cG"
      },
      "execution_count": null,
      "outputs": []
    },
    {
      "cell_type": "code",
      "source": [
        "홍길동 = 55\n",
        "# 한글 변수명은 사용이 가능하지만 쓰지 말자."
      ],
      "metadata": {
        "id": "BT4XSE3yzKvu"
      },
      "execution_count": null,
      "outputs": []
    },
    {
      "cell_type": "code",
      "source": [
        "# 인덱싱 (슬라이싱)\n",
        "\n",
        "s = 'world'\n",
        "print(s[2]) # 파이썬은 인덱스 시작이 0이다. (대부분이 0에서 시작. 1에서 시작하는 것이 특수한 경우이다.)\n",
        "print(s[-1]) # -1은 마지막 인덱스를 가리킨다.\n",
        "print(s[4])\n",
        "\n",
        "ss = '900101-2547389'\n",
        "print(ss[7]) # 하나만 추출할 때에는 indexing\n",
        "addr = '서울시 강남구 역삼동 1번지'\n",
        "print(addr[4:7]) # 여러 개를 추출할 때에는 slicing"
      ],
      "metadata": {
        "colab": {
          "base_uri": "https://localhost:8080/"
        },
        "id": "sAYhUDf4zUH_",
        "outputId": "2d287701-b749-458c-9fa9-3ee354b5a200"
      },
      "execution_count": null,
      "outputs": [
        {
          "output_type": "stream",
          "name": "stdout",
          "text": [
            "r\n",
            "d\n",
            "d\n",
            "2\n",
            "강남구\n"
          ]
        }
      ]
    },
    {
      "cell_type": "code",
      "source": [
        "# print() \n",
        "\n",
        "print('좋은 아침입니다.')"
      ],
      "metadata": {
        "colab": {
          "base_uri": "https://localhost:8080/"
        },
        "id": "psduof_M1UST",
        "outputId": "414f04a7-40c0-44ef-ed0d-ec5f2b621eba"
      },
      "execution_count": null,
      "outputs": [
        {
          "output_type": "stream",
          "name": "stdout",
          "text": [
            "좋은 아침입니다.\n"
          ]
        }
      ]
    },
    {
      "cell_type": "code",
      "source": [
        "when = '저녁'\n",
        "print('좋은',when,'입니다.')\n",
        "\n",
        "print('좋은 %s입니다.' % when)\n",
        "print('좋은 {}입니다.' .format(when))\n",
        "\n",
        "print(f'좋은 {when}입니다.') # *****"
      ],
      "metadata": {
        "colab": {
          "base_uri": "https://localhost:8080/"
        },
        "id": "2AWC7jFU1jLJ",
        "outputId": "41045973-7d24-40b1-82c3-188e6eb12f08"
      },
      "execution_count": null,
      "outputs": [
        {
          "output_type": "stream",
          "name": "stdout",
          "text": [
            "좋은 저녁 입니다.\n",
            "좋은 저녁입니다.\n",
            "좋은 저녁입니다.\n",
            "좋은 저녁입니다.\n"
          ]
        }
      ]
    },
    {
      "cell_type": "code",
      "source": [
        "########################################################\n",
        "# 리스트 List 튜플 Tuple  딕셔너리 Dict  셋 Set\n",
        "########################################################\n",
        "# 파이썬에서 아주 특징적인 자료형.\n",
        "# : 여러 개의 값을 한번에 저장하는 자료형이 필요하다.\n",
        "\n",
        "# 리스트 List\n",
        "# ::가장 많이 쓰이는 자료형\n",
        "# 지금까지 사용한 숫자 1, 문자 1 등 개별적, 독립적인 자료가 아닌, 리스트는 이러한 자료들 여러개를 모아서 사용할 수 있게 해준다.\n",
        "# 리스트에 넣는 자료를 요소element 라고 한다.\n",
        "# 리스트는 []로 구성한다.\n",
        "# *그러나 대괄호는 여기저기서 쓰인다. 대괄호를 쓴다고 해서 어느 자료형이라고 특정할 수 없다.\n",
        "list = [1,2,3,4,5]\n",
        "print(list)\n",
        "# 리스트는 다양한 자료형의 데이터를 한번에 담을 수 있다. \n",
        "# 그러나, 에러를 방지하기 위해서 하나의 리스트에는 \n",
        "# 모든 자료형의 데이터를 담는 것이 아니라 한 가지의 자료형만 저장하는 것이 바람직하다.\n",
        "list = [1,2,3,'대한','민국',True, False]\n",
        "print(list)\n",
        "# 리스트는 인덱싱 indexing과 슬라이싱 slicing이 가능하다.\n",
        "score = [80,90,70,60]\n",
        "print(score[0]) # 파이썬은 0부터 시작한다.\n",
        "print(score[0:2]) #슬라이싱은 0부터 2미만... 처럼 끝은 미만을 나타낸다.\n",
        "# *인덱싱과 슬라이싱은 아주 많이 쓴다.\n",
        "\n",
        "# 리스트는 수정/삭제가 가능하다. (mutable, 튜플은 immitable) ::튜플은 수정이 불가능::\n",
        "score[0] = 100\n",
        "print(score)\n",
        "score[-1] = 100\n",
        "print(score)\n",
        "# score[4] # indexerror 아주 많이 접하게 될 에러 (예외)\n",
        "\n",
        "#리스트는 연산이 가능하다.\n",
        "list_a = [1,2,3]\n",
        "list_b = [4,5,6]\n",
        "\n",
        "print('list_a =',list_a)\n",
        "print('list_b =',list_b)\n",
        "print(list_a+list_b)\n",
        "print(list_a*3)\n",
        "print(len(list_a))"
      ],
      "metadata": {
        "colab": {
          "base_uri": "https://localhost:8080/"
        },
        "id": "ZQ-rCvzT86ox",
        "outputId": "eb46aa32-d58e-4f24-b41e-7042632a57f9"
      },
      "execution_count": null,
      "outputs": [
        {
          "output_type": "stream",
          "name": "stdout",
          "text": [
            "[1, 2, 3, 4, 5]\n",
            "[1, 2, 3, '대한', '민국', True, False]\n",
            "80\n",
            "[80, 90]\n",
            "[100, 90, 70, 60]\n",
            "[100, 90, 70, 100]\n",
            "list_a = [1, 2, 3]\n",
            "list_b = [4, 5, 6]\n",
            "[1, 2, 3, 4, 5, 6]\n",
            "[1, 2, 3, 1, 2, 3, 1, 2, 3]\n",
            "3\n"
          ]
        }
      ]
    },
    {
      "cell_type": "code",
      "source": [
        "# 리스트에 많이 사용되는 함수들\n",
        "# append() (제일 많이 사용) 리스트에 요소를 추가할 때 사용 **끝에만 추가\n",
        "\n",
        "print(score)\n",
        "score.append(60)\n",
        "print(score)\n",
        "score.append(70)\n",
        "print(score)"
      ],
      "metadata": {
        "colab": {
          "base_uri": "https://localhost:8080/"
        },
        "id": "A2ifE7KCFYoF",
        "outputId": "c598120c-fa1e-4062-8642-f338626a84b8"
      },
      "execution_count": null,
      "outputs": [
        {
          "output_type": "stream",
          "name": "stdout",
          "text": [
            "[100, 90, 70, 100]\n",
            "[100, 90, 70, 100, 60]\n",
            "[100, 90, 70, 100, 60, 70]\n"
          ]
        }
      ]
    },
    {
      "cell_type": "code",
      "source": [
        "# insert() 리스트에 요소를 추가할 때 사용 **특정 위치를 지정하여 추가\n",
        "\n",
        "list = []\n",
        "list.insert(0, 10)\n",
        "print(list)\n",
        "\n",
        "list.insert(1, 50)\n",
        "print(list)"
      ],
      "metadata": {
        "colab": {
          "base_uri": "https://localhost:8080/"
        },
        "id": "t0v93XpkJFr9",
        "outputId": "6c7fbaa3-46cf-499f-d134-00a5baa23dcb"
      },
      "execution_count": null,
      "outputs": [
        {
          "output_type": "stream",
          "name": "stdout",
          "text": [
            "[10]\n",
            "[10, 50]\n"
          ]
        }
      ]
    },
    {
      "cell_type": "code",
      "source": [
        "list_a = [1,2,3]\n",
        "list_a.extend([4,5,6]) # 한 번에 여러 개를 넣을 때에는 extend를 사용.\n",
        "list_a # 파괴적 처리 (변수 자체가 바뀐다)"
      ],
      "metadata": {
        "colab": {
          "base_uri": "https://localhost:8080/"
        },
        "id": "VT5bUE9NKR4Y",
        "outputId": "80d50e9c-2ac3-497b-f912-c9691d3a3bb6"
      },
      "execution_count": null,
      "outputs": [
        {
          "output_type": "execute_result",
          "data": {
            "text/plain": [
              "[1, 2, 3, 4, 5, 6]"
            ]
          },
          "metadata": {},
          "execution_count": 12
        }
      ]
    },
    {
      "cell_type": "code",
      "source": [
        "list_a = [1,2,3]\n",
        "list_b = [4,5,6]\n",
        "print(list_a + list_b)\n",
        "print(list_a) # 비파괴적 처리 (변수가 바뀌지 않는다)\n",
        "\n",
        "# 리스트 연결만으로는 list_a에 어떠한 영향도 주지 않는다. (비파괴적 처리)\n",
        "# 하지만 extend()를 사용하면, list_a에 직접적으로 영향을 주게 된다. (파괴적 처리)\n",
        "\n",
        "# 원래 자료를 사용할 때는 비과적으로 사용하는 것이 바람직하다.\n",
        "# 가능하면 원본 데이터는 그대로 유지하고 사용하는 것이 선택지가 더 넓다."
      ],
      "metadata": {
        "colab": {
          "base_uri": "https://localhost:8080/"
        },
        "id": "i9HNj2F-KxS-",
        "outputId": "d565cfca-b3dc-49b5-d5b1-4d69114f8c7e"
      },
      "execution_count": null,
      "outputs": [
        {
          "output_type": "stream",
          "name": "stdout",
          "text": [
            "[1, 2, 3, 4, 5, 6]\n",
            "[1, 2, 3]\n"
          ]
        }
      ]
    },
    {
      "cell_type": "code",
      "source": [
        "# del() 리스트에서 인덱스 위치 데이터 삭제\n",
        "\n",
        "list_a = [0,1,2,3,4,5]\n",
        "del list_a[1] # index 값으로 위치값을 삭제\n",
        "print(list_a)\n",
        "\n",
        "del list_a[1:3] # 1부터 3미만 즉, 2까지\n",
        "print(list_a)\n",
        "\n",
        "del list_a[:] # 생략하면 처음 : 생략하면 끝까지\n",
        "print(list_a)\n",
        "\n",
        "# list_a.clear() 리스트 요소를 전부 한번에 삭제"
      ],
      "metadata": {
        "colab": {
          "base_uri": "https://localhost:8080/"
        },
        "id": "tGCAYB-MNDJU",
        "outputId": "5eb8f9db-d9bf-4d0c-f16e-ade5f78ba1a2"
      },
      "execution_count": null,
      "outputs": [
        {
          "output_type": "stream",
          "name": "stdout",
          "text": [
            "[0, 2, 3, 4, 5]\n",
            "[0, 4, 5]\n",
            "[]\n"
          ]
        }
      ]
    },
    {
      "cell_type": "code",
      "source": [
        "# pop() 리스트에서 마지막 위치 데이터 삭제\n",
        "list_a.pop()\n",
        "list_a"
      ],
      "metadata": {
        "colab": {
          "base_uri": "https://localhost:8080/",
          "height": 211
        },
        "id": "-mTG83P3NOko",
        "outputId": "f906e6ca-025d-4792-df89-79554e45cb7f"
      },
      "execution_count": null,
      "outputs": [
        {
          "output_type": "error",
          "ename": "IndexError",
          "evalue": "ignored",
          "traceback": [
            "\u001b[0;31m---------------------------------------------------------------------------\u001b[0m",
            "\u001b[0;31mIndexError\u001b[0m                                Traceback (most recent call last)",
            "\u001b[0;32m<ipython-input-15-1fc49c72cc4d>\u001b[0m in \u001b[0;36m<module>\u001b[0;34m()\u001b[0m\n\u001b[1;32m      1\u001b[0m \u001b[0;31m# pop() 리스트에서 마지막 위치 데이터 삭제\u001b[0m\u001b[0;34m\u001b[0m\u001b[0;34m\u001b[0m\u001b[0;34m\u001b[0m\u001b[0m\n\u001b[0;32m----> 2\u001b[0;31m \u001b[0mlist_a\u001b[0m\u001b[0;34m.\u001b[0m\u001b[0mpop\u001b[0m\u001b[0;34m(\u001b[0m\u001b[0;34m)\u001b[0m\u001b[0;34m\u001b[0m\u001b[0;34m\u001b[0m\u001b[0m\n\u001b[0m\u001b[1;32m      3\u001b[0m \u001b[0mlist_a\u001b[0m\u001b[0;34m\u001b[0m\u001b[0;34m\u001b[0m\u001b[0m\n",
            "\u001b[0;31mIndexError\u001b[0m: pop from empty list"
          ]
        }
      ]
    },
    {
      "cell_type": "code",
      "source": [
        "list_a.pop(1)\n",
        "list_a"
      ],
      "metadata": {
        "id": "yqDV9ivCOXRY"
      },
      "execution_count": null,
      "outputs": []
    },
    {
      "cell_type": "code",
      "source": [
        "# remove 값으로 삭제\n",
        "\n",
        "list_c = [1,2,1,2]\n",
        "list_c.remove(2) # remove 는 요소의 값을 찾아 삭제한다.\n",
        "                # 동일한 값이 여러 개 있을 때는 하나씩 순차적으로 삭제한다.\n",
        "                # 리스트에서 중복된 여러 개의 값을 제거하려면 반복문을 사용한다.\n",
        "print(list_c)\n",
        "list_c.remove(2)\n",
        "print(list_c)"
      ],
      "metadata": {
        "id": "_FcF77LGOYBN"
      },
      "execution_count": null,
      "outputs": []
    },
    {
      "cell_type": "code",
      "source": [
        "list = [1,2,3,4,5]\n",
        "print(list[0]) # indexsing 비파괴적으로 동작한다.\n",
        "print(list)\n",
        "\n",
        "print(list.pop()) # pop은 파괴적으로 동작한다.\n",
        "print(list)"
      ],
      "metadata": {
        "id": "ZPECjCtnPyo1"
      },
      "execution_count": null,
      "outputs": []
    },
    {
      "cell_type": "code",
      "source": [
        "# in / not in  리스트에 존재하는 요소인지를 확인.\n",
        "\n",
        "list = [222,434,65,123,547,876]\n",
        "print(222 in list)\n",
        "\n",
        "print(221 in list)\n",
        "\n",
        "print(221 not in list)"
      ],
      "metadata": {
        "id": "3d548C7lQWF7"
      },
      "execution_count": null,
      "outputs": []
    },
    {
      "cell_type": "code",
      "source": [
        "# 딕셔너리 (java의 map, JS의 json과 유사한 자료구조)\n",
        "# 리스트가 인덱스를 기반으로 값을 저장한다면 딕셔너리는 키값을 기반으로 값을 저장한다.\n",
        "\n",
        "# {} 를 사용하여 데이터들을 저장한다.\n",
        "# 삽입/삭제가 가능하다. mutable\n",
        "# 순서가 없으므로 인덱싱과 슬라이싱이 불가능하다.\n",
        "\n",
        "dict = {\n",
        "    \"name\": \"엔드 게임\",\n",
        "    \"no\":1,\n",
        "    \"type\": \"히어로 무비\",\n",
        "    \"price\": 10000\n",
        "}\n",
        "print(dict)\n",
        "dict['name']"
      ],
      "metadata": {
        "id": "HnH4QqtlRiZo"
      },
      "execution_count": null,
      "outputs": []
    },
    {
      "cell_type": "code",
      "source": [
        "dict = {\n",
        "    \"감독\":[\"안소니\",\"루소\"],\n",
        "    \"배우\":[\"타노스\",\"토르\",\"헐크\"]\n",
        "}\n",
        "dict[\"감독\"]"
      ],
      "metadata": {
        "id": "SSF9jlBplB16"
      },
      "execution_count": null,
      "outputs": []
    },
    {
      "cell_type": "code",
      "source": [
        "dict = {\n",
        "    'name': '건조 망고',\n",
        "    'type': '건조 과일',\n",
        "    'ingredient': ['망고','설탕','색소'],\n",
        "    'origin':'필리핀'\n",
        "}\n",
        "\n",
        "print('name:', dict['name'])\n",
        "print('type:',dict['type'])\n",
        "print('ingredient:',dict['ingredient'])\n",
        "print('origin:',dict['origin'])\n",
        "\n",
        "dict['name'] = '망고'\n",
        "print('name:', dict['name'])\n",
        "\n",
        "print(dict['ingredient'][0])\n",
        "\n",
        "dict['price'] = 5000\n",
        "\n",
        "print(dict)\n",
        "\n",
        "dict['price'] = 4000\n",
        "\n",
        "print(dict)\n",
        "\n",
        "del dict['price']\n",
        "print(dict)"
      ],
      "metadata": {
        "id": "l6lfHHv1l83f"
      },
      "execution_count": null,
      "outputs": []
    },
    {
      "cell_type": "code",
      "source": [
        "dict = {}\n",
        "\n",
        "dict['name'] = '새 이름'\n",
        "dict['height'] = 185\n",
        "dict['weight'] = 75\n",
        "\n",
        "print(dict)\n",
        "del dict['weight']\n",
        "print(dict)"
      ],
      "metadata": {
        "id": "4GP4O0WyodZD"
      },
      "execution_count": null,
      "outputs": []
    },
    {
      "cell_type": "code",
      "source": [
        "# dict 자주 등장하는 에러 (예외)\n",
        "\n",
        "# KeyError 리스트에서 없는 인덱스에 접근하려고 하면 IndexError가 발생되는 것처럼\n",
        "#         딕에서도 존재하지 않는 키값을 사용하면 예외 또는 에러를 발생시킨다.\n",
        "\n",
        "dict = {\n",
        "    'name': '건조 망고',\n",
        "    'type': '건조 과일',\n",
        "    'ingredient': ['망고','설탕','색소'],\n",
        "    'origin':'필리핀'\n",
        "}\n",
        "\n",
        "del dict['nane']"
      ],
      "metadata": {
        "id": "1NkLFyg5pOIZ"
      },
      "execution_count": null,
      "outputs": []
    },
    {
      "cell_type": "code",
      "source": [
        "dict = {\n",
        "    'name': '건조 망고',\n",
        "    'type': '건조 과일',\n",
        "    'ingredient': ['망고','설탕','색소'],\n",
        "    'origin':'필리핀'\n",
        "}\n",
        "\n",
        "key = input('>삭제를 원하는 데이터의 키값을 입력하세요: ')\n",
        "\n",
        "if key in dict:\n",
        "  print(dict[key])\n",
        "else:\n",
        "  print('존재하지 않는 키에 접근하고 있습니다.. ')"
      ],
      "metadata": {
        "id": "tgrcuwG6qJ9u"
      },
      "execution_count": null,
      "outputs": []
    },
    {
      "cell_type": "code",
      "source": [
        "# 튜플 tuple\n",
        "# () 를 사용하여 작성한다. 튜플은 괄호를 생략할 수 있다.\n",
        "# 리스트와 거의 대부분 유사하나, 튜플은 삽입/수정 등이 불가능하다. immutable\n",
        "# 튜플은 1개의 원소로 작성할 때는 ,를 삽입한다. (1,), (1,2), [1]\n",
        "# \n",
        "\n",
        "t = (1, 2)\n",
        "print(t)\n",
        "print(type(t))\n",
        "\n",
        "t2 = 3,4\n",
        "print(t2)\n",
        "print(type(t2))\n",
        "\n",
        "t3 = (5) # 괄호의 개념이 (5)일 때에는 (5) == 5 이다.\n",
        "print(t3)\n",
        "print(type(t3))\n",
        "\n",
        "t4 = 5 # 괄호의 개념이 (5)일 때에는 (5) == 5 이다.\n",
        "print(t4)\n",
        "print(type(t4))\n",
        "\n",
        "t5 = (5,) \n",
        "print(t5)\n",
        "print(type(t5))"
      ],
      "metadata": {
        "id": "f80FHEPAtSR2"
      },
      "execution_count": null,
      "outputs": []
    },
    {
      "cell_type": "code",
      "source": [
        "t = (1,2,3,4,5)\n",
        "# t[0] = 8  튜플은 수정이 불가능하다. immutable\n",
        "del t[0] # 튜플은 삭제가 불가능하다. immutable"
      ],
      "metadata": {
        "id": "Xajg-pOXyqPZ"
      },
      "execution_count": null,
      "outputs": []
    },
    {
      "cell_type": "code",
      "source": [
        "t = (1,2,3,4,5)\n",
        "\n",
        "print(t[1]) # 튜플은 인덱싱이 가능하다. \n",
        "print(t[2:])# 튜플은 슬라이싱이 가능하다. "
      ],
      "metadata": {
        "id": "_IYGHciR0Ctd"
      },
      "execution_count": null,
      "outputs": []
    },
    {
      "cell_type": "code",
      "source": [
        "t1 = (1,2,3,4,5)\n",
        "t2 = (6,7,8,9)\n",
        "\n",
        "print(t1 + t2)\n",
        "print(t1)\n",
        "print(t2)\n",
        "\n",
        "print(t1*3)\n",
        "\n",
        "# 비 파괴적 연산은 가능하다. "
      ],
      "metadata": {
        "id": "ypZZNnCB0EqO"
      },
      "execution_count": null,
      "outputs": []
    },
    {
      "cell_type": "code",
      "source": [
        "# Set 집합\n",
        "# {}를 사용하여 작성한다.\n",
        "# 중복을 허용하지 않는다.\n",
        "# 순서가 없다. unordered 리스트나 튜플은 순서가 있기 때문에 ordered 인덱싱과 슬라이싱을 통해\n",
        "# 값을 꺼낼 수 있지만, 딕셔너리와 셋은 순서가 없어 불가능하다.\n",
        "# 중복을 허용하지 않는다는 특성을 활용하여 중복 제거 필터용으로 많이 사용된다.\n",
        "# set 자료형에 저장된 값을 꺼내려면 리스트나 튜플로 변환하여 사용한다.\n",
        "# mutable 수정/삭제가 가능하다.\n",
        "\n",
        "set = {1,1,2,2,2,3,4}\n",
        "print(set)\n",
        "\n",
        "print(set[0])"
      ],
      "metadata": {
        "id": "KN6IndyY07bj"
      },
      "execution_count": null,
      "outputs": []
    },
    {
      "cell_type": "code",
      "source": [
        "s1 = set([1,1,1,2,2,3])\n",
        "print(type(s1))\n",
        "print(s1)\n",
        "li = list(s1)\n",
        "print(type(li))\n",
        "print(li)\n",
        "li[0]"
      ],
      "metadata": {
        "colab": {
          "base_uri": "https://localhost:8080/"
        },
        "id": "rm3Ee7ou2sBZ",
        "outputId": "8065d219-a4da-48ab-fa83-a132e4495731"
      },
      "execution_count": null,
      "outputs": [
        {
          "output_type": "stream",
          "name": "stdout",
          "text": [
            "<class 'set'>\n",
            "{1, 2, 3}\n",
            "<class 'list'>\n",
            "[1, 2, 3]\n"
          ]
        },
        {
          "output_type": "execute_result",
          "data": {
            "text/plain": [
              "1"
            ]
          },
          "metadata": {},
          "execution_count": 5
        }
      ]
    },
    {
      "cell_type": "code",
      "source": [
        "# 집합 계산\n",
        "\n",
        "set1 = {1,2,3}\n",
        "set2 = {2,3,4}\n",
        "\n",
        "print(type(set1))\n",
        "print(type(set2))\n",
        "\n",
        "# 양쪽 집합에 모두 공통적으로 포함되는 원소 -> 교집합\n",
        "print(set1 & set2)\n",
        "print(set1.intersection(set2))\n",
        "\n",
        "# 양쪽 집합의 모든 포함되는 원소 -> 합집합\n",
        "print(set1 | set2)\n",
        "print(set1.union(set2))\n",
        "\n",
        "# 두 개 집합의 차 -> 차집합\n",
        "print(set1 - set2)\n",
        "print(set2 - set1)\n",
        "print(set1.difference(set2))\n",
        "print(set2.difference(set1))"
      ],
      "metadata": {
        "colab": {
          "base_uri": "https://localhost:8080/"
        },
        "id": "mCprxNMQ4tjT",
        "outputId": "271485ce-2ff4-499a-83cf-e617fa1b3704"
      },
      "execution_count": null,
      "outputs": [
        {
          "output_type": "stream",
          "name": "stdout",
          "text": [
            "<class 'set'>\n",
            "<class 'set'>\n",
            "{2, 3}\n",
            "{2, 3}\n",
            "{1, 2, 3, 4}\n",
            "{1, 2, 3, 4}\n",
            "{1}\n",
            "{4}\n",
            "{1}\n",
            "{4}\n"
          ]
        }
      ]
    },
    {
      "cell_type": "code",
      "source": [
        "# 집합은 삽입 가능 mutable\n",
        "\n",
        "set1 = {1,2,3}\n",
        "print(set1)\n",
        "set1.add(4)\n",
        "print(set1)\n",
        "\n",
        "set1.update([5,6,7,8])\n",
        "print(set1)\n",
        "\n",
        "# 집합은 삭제가 가능하다. mutable\n",
        "# 집합은 인덱스 개념이 존재하지 않는다. 따라서 지정하여 직접 삭제한다.\n",
        "set1.remove(4)\n",
        "print(set1)"
      ],
      "metadata": {
        "colab": {
          "base_uri": "https://localhost:8080/"
        },
        "id": "6yVEZCFM6oTY",
        "outputId": "11f3a5d0-62c6-4989-b889-e012a4a1eaf3"
      },
      "execution_count": null,
      "outputs": [
        {
          "output_type": "stream",
          "name": "stdout",
          "text": [
            "{1, 2, 3}\n",
            "{1, 2, 3, 4}\n",
            "{1, 2, 3, 4, 5, 6, 7, 8}\n",
            "{1, 2, 3, 5, 6, 7, 8}\n"
          ]
        }
      ]
    },
    {
      "cell_type": "code",
      "source": [
        "# Q1. 입력) 학번을 입력하세요 >> 31025\n",
        "#          출력) 3학년 10반 25번\n",
        "\n",
        "stu_num = input('학번을 입력하세요 : ')\n",
        "print(stu_num[0],'학년',stu_num[1:3],'반',stu_num[3:],'번')"
      ],
      "metadata": {
        "colab": {
          "base_uri": "https://localhost:8080/"
        },
        "id": "qlFlYH4B_YDk",
        "outputId": "c149ba47-464b-4592-9162-98f3196c221d"
      },
      "execution_count": null,
      "outputs": [
        {
          "output_type": "stream",
          "name": "stdout",
          "text": [
            "학번을 입력하세요 : 31025\n",
            "3 학년 10 반 25 번\n"
          ]
        }
      ]
    },
    {
      "cell_type": "code",
      "source": [
        "# Q2. 입력) 차량 번호를 입력하세요. >>서울2가1234 or 288가1233\n",
        "#     출력) 서울2가1234 의 차량번호 끝 4자리는 1234 입니다.\n",
        "\n",
        "car = input('차량 번호를 입력하세요 >> ')\n",
        "print(f'{car}의 차량번호 끝 4자리는 {car[-4:]}입니다.')"
      ],
      "metadata": {
        "colab": {
          "base_uri": "https://localhost:8080/"
        },
        "id": "DN_1FrGfB_s0",
        "outputId": "6f61dc64-7bea-473d-a0ea-86807c9f8020"
      },
      "execution_count": null,
      "outputs": [
        {
          "output_type": "stream",
          "name": "stdout",
          "text": [
            "차량 번호를 입력하세요 >> 서울2가1234\n",
            "서울2가1234의 차량번호 끝 4자리는 1234입니다.\n"
          ]
        }
      ]
    },
    {
      "cell_type": "code",
      "source": [
        "# Q3. 인덱싱과 슬라이싱을 사용하지 말고 \n",
        "#     name = 'austin' 가운데 글자를 추출하는 프로그램을 구현하시오\n",
        "# 홀수 갯수의 문자열을 입력 받아 \n",
        "# 가운데 글자를 추출하는 프로그램을 구현하시오\n",
        "# 입력) 문자열을 홀수로 입력하세요 >> austins\n",
        "# 출력) 문자열의 가운데 글자는 t입니다.\n",
        "name = input('문자열을 홀수로 입력하세요 >>')\n",
        "\n",
        "print(int(len(name)/2)) #len은 모든 글자의 수\n",
        "print(len(name)//2) # 몫만 추출\n",
        "print(len(name)%2) # 나머지만 추출 (홀수 짝수 배수)\n",
        "print(f'문자열의 가운데 글자는 {name[len(name)//2]}입니다.')"
      ],
      "metadata": {
        "colab": {
          "base_uri": "https://localhost:8080/"
        },
        "id": "Lorf4CHkDlIa",
        "outputId": "a4840b22-bb18-43ec-b503-e20ed69c096a"
      },
      "execution_count": null,
      "outputs": [
        {
          "output_type": "stream",
          "name": "stdout",
          "text": [
            "문자열을 홀수로 입력하세요 >>asdsdfe\n",
            "3\n",
            "3\n",
            "1\n",
            "문자열의 가운데 글자는 s입니다.\n"
          ]
        }
      ]
    },
    {
      "cell_type": "code",
      "source": [
        "# [1,2,3,4,5,6,7,8,9] 의 3번째 요소부터 7번째 요소만 추출한 결과에서 2번째 요소를 출력하는 프로그램을 구현하세요.\n",
        "# (한번에)\n",
        "\n",
        "list = [1,2,3,4,5,6,7,8,9]\n",
        "print(list[2:7][1])  # 한번 이미 추출한 뒤에 바로 대괄호를 사용하여 추출이 가능하다."
      ],
      "metadata": {
        "colab": {
          "base_uri": "https://localhost:8080/"
        },
        "id": "TgLhJk8xHzI_",
        "outputId": "8bc0b5c4-e9cd-4c1a-cba1-0a7d5bf5ca71"
      },
      "execution_count": null,
      "outputs": [
        {
          "output_type": "stream",
          "name": "stdout",
          "text": [
            "4\n"
          ]
        }
      ]
    },
    {
      "cell_type": "code",
      "source": [
        "##########################\n",
        "# if \n",
        "##########################\n",
        "\n",
        "# 특정 조건을 만족하는지 여부에 따라 실행되는 코드가 달라져야할 때 사용된다.\n",
        "# 날씨가 맑으면 소풍을 가고 아니면 공부를 한다.\n",
        "\n",
        "# if 조건식:\n",
        "#   만족할 때 실행 코드\n",
        "# else:\n",
        "#   만족하지 못할 때 실행되는\n",
        "\n",
        "# if 맑으면:\n",
        "#   소풍을 간다.\n",
        "# else:\n",
        "#   공부를 한다.\n",
        "\n",
        "if False:\n",
        "  print('만족')\n",
        "else:\n",
        "  print('불만족')"
      ],
      "metadata": {
        "colab": {
          "base_uri": "https://localhost:8080/"
        },
        "id": "dX6nNbj9MbsF",
        "outputId": "b0bcdb94-b50d-4765-ab9a-700a12566f7f"
      },
      "execution_count": null,
      "outputs": [
        {
          "output_type": "stream",
          "name": "stdout",
          "text": [
            "불만족\n"
          ]
        }
      ]
    },
    {
      "cell_type": "code",
      "source": [
        "age = int(input('나이를 입력하세요 >> '))\n",
        "\n",
        "if age >= 18:\n",
        "  print('당신은 성인입니다.')\n",
        "else:\n",
        "  print('당신은 성인이 아닙니다.')"
      ],
      "metadata": {
        "colab": {
          "base_uri": "https://localhost:8080/"
        },
        "id": "pFp1330OPDuB",
        "outputId": "79fedcb0-1171-4596-8eff-cfbdcf49a8ca"
      },
      "execution_count": null,
      "outputs": [
        {
          "output_type": "stream",
          "name": "stdout",
          "text": [
            "나이를 입력하세요 >> 10\n",
            "당신은 성인이 아닙니다.\n"
          ]
        }
      ]
    },
    {
      "cell_type": "code",
      "source": [
        "age = int(input('나이를 입력하세요 >> '))\n",
        "\n",
        "if age < 10:\n",
        "  print('당신은 유아입니다.')\n",
        "elif age < 20:\n",
        "  print('당신은 10대입니다.')\n",
        "elif age < 30:\n",
        "  print('당신은 20대입니다.')\n",
        "elif age < 40:\n",
        "  print('당신은 30대입니다.')\n",
        "elif age < 50:\n",
        "  print('당신은 40대입니다.')\n",
        "elif age < 60:\n",
        "  print('당신은 50대입니다.')\n",
        "elif age < 70:\n",
        "  print('당신은 60대입니다.')\n",
        "else:\n",
        "  print('당신은 노인입니다.')"
      ],
      "metadata": {
        "colab": {
          "base_uri": "https://localhost:8080/"
        },
        "id": "aKeXpmD3Pv7E",
        "outputId": "98a60909-dfcf-4306-a94d-3083827fd3e9"
      },
      "execution_count": null,
      "outputs": [
        {
          "output_type": "stream",
          "name": "stdout",
          "text": [
            "나이를 입력하세요 >> 56\n",
            "당신은 50대입니다.\n"
          ]
        }
      ]
    },
    {
      "cell_type": "code",
      "source": [
        "# 입력) 당신의 점수를 입력하세요 >>> 95\n",
        "# 출력) 당신의 점수는 95점이고 학점은 A학점 입니다.\n",
        "# 100~90 A / 90~ 80 B\n",
        "\n",
        "a = int(input('당신의 점수를 입력하세요 >>> '))\n",
        "g = \"\"\n",
        "if a >= 90:\n",
        "  g ='A'\n",
        "elif a >= 80:\n",
        "  g ='B'\n",
        "elif a >= 70:\n",
        "  g ='C'\n",
        "elif a >= 60:\n",
        "  g ='D'\n",
        "else:\n",
        "  g ='F'\n",
        "print(f'당신의 점수는 {a}점이고 학점은 {g}학점입니다.')"
      ],
      "metadata": {
        "colab": {
          "base_uri": "https://localhost:8080/"
        },
        "id": "zP7ubcWdRhlA",
        "outputId": "e8ef85dd-0926-42eb-b458-7e3c148a7947"
      },
      "execution_count": null,
      "outputs": [
        {
          "output_type": "stream",
          "name": "stdout",
          "text": [
            "당신의 점수를 입력하세요 >>> 50\n",
            "당신의 점수는 50점이고 학점은 F학점입니다.\n"
          ]
        }
      ]
    },
    {
      "cell_type": "code",
      "source": [
        "# 임의의 정수를 입력받아서 그 수가 3의 배수인지를 확인하는 프로그램을 작성하시오\n",
        "# (입력) 정수를 입력하세요 >>> 14\n",
        "# (출력) 14는 3의 배수가 아닙니다.\n",
        "\n",
        "i = int(input('정수를 입력하세요 >>> '))\n",
        "g = \"\"\n",
        "if a%3 == 0:\n",
        "  g = \"맞습니다\"\n",
        "else:\n",
        "  g = \"아닙니다\"\n",
        "\n",
        "print(f'{i}는 3의 배수가 {g}')"
      ],
      "metadata": {
        "colab": {
          "base_uri": "https://localhost:8080/"
        },
        "id": "GJxd_vMeTqkb",
        "outputId": "d5fc13ce-895b-4863-e521-999124be1697"
      },
      "execution_count": null,
      "outputs": [
        {
          "output_type": "stream",
          "name": "stdout",
          "text": [
            "정수를 입력하세요 >>> 50\n",
            "50는 3의 배수가 아닙니다\n"
          ]
        }
      ]
    },
    {
      "cell_type": "code",
      "source": [
        "t1 = int(input('정수 1 입력 > '))\n",
        "t2 = int(input('정수 2 입력 > '))\n",
        "t3 = int(input('정수 3 입력 > '))\n",
        "g = 0\n",
        "\n",
        "if t1 > t2 & t1 > t3:\n",
        "  g = t1\n",
        "elif t2 > t3:\n",
        "  g = t2\n",
        "else:\n",
        "  g = t3\n",
        "\n",
        "print(f'제일 큰 수는 {g}입니다')"
      ],
      "metadata": {
        "colab": {
          "base_uri": "https://localhost:8080/"
        },
        "id": "Kja0TLeuVB9I",
        "outputId": "58b7afc4-8620-4bab-812e-2a5622a6263d"
      },
      "execution_count": null,
      "outputs": [
        {
          "output_type": "stream",
          "name": "stdout",
          "text": [
            "정수 1 입력 > 50\n",
            "정수 2 입력 > 40\n",
            "정수 3 입력 > 80\n",
            "제일 큰 수는 80입니다\n"
          ]
        }
      ]
    }
  ]
}