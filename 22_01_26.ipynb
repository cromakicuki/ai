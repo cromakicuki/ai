{
  "nbformat": 4,
  "nbformat_minor": 0,
  "metadata": {
    "colab": {
      "name": "22-01-26.ipynb",
      "provenance": [],
      "collapsed_sections": [],
      "authorship_tag": "ABX9TyMIvn5NPtGtt4lBVH3YhkDY",
      "include_colab_link": true
    },
    "kernelspec": {
      "name": "python3",
      "display_name": "Python 3"
    },
    "language_info": {
      "name": "python"
    }
  },
  "cells": [
    {
      "cell_type": "markdown",
      "metadata": {
        "id": "view-in-github",
        "colab_type": "text"
      },
      "source": [
        "<a href=\"https://colab.research.google.com/github/cromakicuki/ai/blob/main/22_01_26.ipynb\" target=\"_parent\"><img src=\"https://colab.research.google.com/assets/colab-badge.svg\" alt=\"Open In Colab\"/></a>"
      ]
    },
    {
      "cell_type": "code",
      "execution_count": 1,
      "metadata": {
        "colab": {
          "base_uri": "https://localhost:8080/",
          "height": 35
        },
        "id": "QAYZeiMUro-b",
        "outputId": "00e5e86a-d739-4b59-eeb3-9828b2d4cd9b"
      },
      "outputs": [
        {
          "output_type": "execute_result",
          "data": {
            "application/vnd.google.colaboratory.intrinsic+json": {
              "type": "string"
            },
            "text/plain": [
              "'\\n작성일 : 2022/01/26\\n담당자 : 홍길동\\n비고 : (연락처)\\n'"
            ]
          },
          "metadata": {},
          "execution_count": 1
        }
      ],
      "source": [
        "#############################################\n",
        "# 복습\n",
        "#############################################\n",
        "\n",
        "# Comment 주석 - 코드에 대한 설명, 컴퓨터는 읽지 않고 사람만 읽는 내용.\n",
        "# 또 다른 용법으로는 코드를 임시로 실행하지 않고 감추고 에러를 확인하는 용도로도 사용된다.\n",
        "# 본인이 기록한 내용을 나중에 확인할 때 또는 다른 팀원이 작성한 내용을 파악하기 용이하게 만든다.\n",
        "\n",
        "# #을 사용하여 주석을 표시한다. (아예 읽히지 않는 것.) ('ctrl+/')\n",
        "# Doc string (주석의 용도로도 쓰이는 것. 컴퓨터가 읽는다.)\n",
        "'''\n",
        "작성일 : 2022/01/26\n",
        "담당자 : 홍길동\n",
        "비고 : (연락처)\n",
        "'''\n",
        "\"\"\"\n",
        "작성일 : 2022/01/26\n",
        "담당자 : 홍길동\n",
        "비고 : (연락처)\n",
        "\"\"\"\n",
        "# 코드의 윗쪽 또는 오른쪽에 주석을 붙인다.\n",
        "print('Hell World') # 코드의 우측 또는 코드의 윗줄에 적는다."
      ]
    },
    {
      "cell_type": "code",
      "source": [
        "# 변수 Variable\n",
        "# 어떤 값을 저장하는 저장소 (a-적 설명)\n",
        "a = 100 \n",
        "print(a)\n",
        "\n",
        "stumathsum = 350\n",
        "stu_math_sum = 350 # 스네이크 케이스 snake_case (단어마다 언더바를 넣어주는 것. 뱀을 닮았다고 하여 스네이크)\n",
        "StuMathSum = 350 # 캐멀 케이스 CamelCase (단어의 첫 글자마다 대문자를 넣어주는 것. 낙타를 닮았다고 하여 캐멀)"
      ],
      "metadata": {
        "colab": {
          "base_uri": "https://localhost:8080/"
        },
        "id": "M6rZtu6sw7CW",
        "outputId": "463e24fb-92e2-40b4-e5e9-084ff4d60fc8"
      },
      "execution_count": 2,
      "outputs": [
        {
          "output_type": "stream",
          "name": "stdout",
          "text": [
            "100\n"
          ]
        }
      ]
    },
    {
      "cell_type": "code",
      "source": [
        "# 1a = 100 변수명에 숫자가 먼저 올 순 없다.\n",
        "a1 = 100"
      ],
      "metadata": {
        "id": "SA1dlukvyyrp"
      },
      "execution_count": null,
      "outputs": []
    },
    {
      "cell_type": "code",
      "source": [
        "_a = 100\n",
        "# !a = 100 변수명에 특수문자가 먼저 올 순 없다. (언더바 제외)"
      ],
      "metadata": {
        "id": "9Y3sM8Zwy8cG"
      },
      "execution_count": null,
      "outputs": []
    },
    {
      "cell_type": "code",
      "source": [
        "홍길동 = 55\n",
        "# 한글 변수명은 사용이 가능하지만 쓰지 말자."
      ],
      "metadata": {
        "id": "BT4XSE3yzKvu"
      },
      "execution_count": null,
      "outputs": []
    },
    {
      "cell_type": "code",
      "source": [
        "# 인덱싱 (슬라이싱)\n",
        "\n",
        "s = 'world'\n",
        "print(s[2]) # 파이썬은 인덱스 시작이 0이다. (대부분이 0에서 시작. 1에서 시작하는 것이 특수한 경우이다.)\n",
        "print(s[-1]) # -1은 마지막 인덱스를 가리킨다.\n",
        "print(s[4])\n",
        "\n",
        "ss = '900101-2547389'\n",
        "print(ss[7]) # 하나만 추출할 때에는 indexing\n",
        "addr = '서울시 강남구 역삼동 1번지'\n",
        "print(addr[4:7]) # 여러 개를 추출할 때에는 slicing"
      ],
      "metadata": {
        "colab": {
          "base_uri": "https://localhost:8080/"
        },
        "id": "sAYhUDf4zUH_",
        "outputId": "111938b1-b5d3-4bf3-cefc-90bf260da74f"
      },
      "execution_count": 7,
      "outputs": [
        {
          "output_type": "stream",
          "name": "stdout",
          "text": [
            "r\n",
            "d\n",
            "d\n",
            "2\n",
            "강남구\n"
          ]
        }
      ]
    },
    {
      "cell_type": "code",
      "source": [
        "# print() \n",
        "\n",
        "print('좋은 아침입니다.')"
      ],
      "metadata": {
        "colab": {
          "base_uri": "https://localhost:8080/"
        },
        "id": "psduof_M1UST",
        "outputId": "d47442a3-f3bf-4fee-a46c-15501af7563c"
      },
      "execution_count": 8,
      "outputs": [
        {
          "output_type": "stream",
          "name": "stdout",
          "text": [
            "좋은 아침입니다.\n"
          ]
        }
      ]
    },
    {
      "cell_type": "code",
      "source": [
        "when = '저녁'\n",
        "print('좋은',when,'입니다.')\n",
        "\n",
        "print('좋은 %s입니다.' % when)\n",
        "print('좋은 {}입니다.' .format(when))\n",
        "\n",
        "print(f'좋은 {when}입니다.') # *****"
      ],
      "metadata": {
        "colab": {
          "base_uri": "https://localhost:8080/"
        },
        "id": "2AWC7jFU1jLJ",
        "outputId": "2d318212-368a-4fe8-db15-1014034b60d2"
      },
      "execution_count": 11,
      "outputs": [
        {
          "output_type": "stream",
          "name": "stdout",
          "text": [
            "좋은 저녁 입니다.\n",
            "좋은 저녁 입니다.\n",
            "좋은 저녁 입니다.\n",
            "좋은 저녁 입니다.\n"
          ]
        }
      ]
    },
    {
      "cell_type": "code",
      "source": [
        "########################################################\n",
        "# 리스트 List 튜플 Tuple  딕셔너리 Dict  셋 Set\n",
        "########################################################\n",
        "# 파이썬에서 아주 특징적인 자료형.\n",
        "# : 여러 개의 값을 한번에 저장하는 자료형이 필요하다.\n",
        "\n",
        "# 리스트 List\n",
        "# ::가장 많이 쓰이는 자료형\n",
        "# 지금까지 사용한 숫자 1, 문자 1 등 개별적, 독립적인 자료가 아닌, 리스트는 이러한 자료들 여러개를 모아서 사용할 수 있게 해준다.\n",
        "# 리스트에 넣는 자료를 요소element 라고 한다.\n",
        "# 리스트는 []로 구성한다.\n",
        "# *그러나 대괄호는 여기저기서 쓰인다. 대괄호를 쓴다고 해서 어느 자료형이라고 특정할 수 없다.\n",
        "list = [1,2,3,4,5]\n",
        "print(list)\n",
        "# 리스트는 다양한 자료형의 데이터를 한번에 담을 수 있다. \n",
        "# 그러나, 에러를 방지하기 위해서 하나의 리스트에는 \n",
        "# 모든 자료형의 데이터를 담는 것이 아니라 한 가지의 자료형만 저장하는 것이 바람직하다.\n",
        "list = [1,2,3,'대한','민국',True, False]\n",
        "print(list)\n",
        "# 리스트는 인덱싱 indexing과 슬라이싱 slicing이 가능하다.\n",
        "score = [80,90,70,60]\n",
        "print(score[0]) # 파이썬은 0부터 시작한다.\n",
        "print(score[0:2]) #슬라이싱은 0부터 2미만... 처럼 끝은 미만을 나타낸다.\n",
        "# *인덱싱과 슬라이싱은 아주 많이 쓴다.\n",
        "\n",
        "# 리스트는 수정/삭제가 가능하다. (mutable, 튜플은 immitable) ::튜플은 수정이 불가능::\n",
        "score[0] = 100\n",
        "print(score)\n",
        "score[-1] = 100\n",
        "print(score)\n",
        "# score[4] # indexerror 아주 많이 접하게 될 에러 (예외)\n",
        "\n",
        "#리스트는 연산이 가능하다.\n",
        "list_a = [1,2,3]\n",
        "list_b = [4,5,6]\n",
        "\n",
        "print('list_a =',list_a)\n",
        "print('list_b =',list_b)\n",
        "print(list_a+list_b)\n",
        "print(list_a*3)\n",
        "print(len(list_a))"
      ],
      "metadata": {
        "colab": {
          "base_uri": "https://localhost:8080/"
        },
        "id": "ZQ-rCvzT86ox",
        "outputId": "ef4b5079-50cf-40a9-d2a9-085c725dc02b"
      },
      "execution_count": 23,
      "outputs": [
        {
          "output_type": "stream",
          "name": "stdout",
          "text": [
            "[1, 2, 3, 4, 5]\n",
            "[1, 2, 3, '대한', '민국', True, False]\n",
            "80\n",
            "[80, 90]\n",
            "[100, 90, 70, 60]\n",
            "[100, 90, 70, 100]\n",
            "list_a = [1, 2, 3]\n",
            "list_b = [4, 5, 6]\n",
            "[1, 2, 3, 4, 5, 6]\n",
            "[1, 2, 3, 1, 2, 3, 1, 2, 3]\n",
            "3\n"
          ]
        }
      ]
    },
    {
      "cell_type": "code",
      "source": [
        "# 리스트에 많이 사용되는 함수들\n",
        "# append() (제일 많이 사용) 리스트에 요소를 추가할 때 사용 **끝에만 추가\n",
        "\n",
        "print(score)\n",
        "score.append(60)\n",
        "print(score)\n",
        "score.append(70)\n",
        "print(score)"
      ],
      "metadata": {
        "colab": {
          "base_uri": "https://localhost:8080/"
        },
        "id": "A2ifE7KCFYoF",
        "outputId": "ad3a1806-964e-4df5-f895-8999ddf48d64"
      },
      "execution_count": 25,
      "outputs": [
        {
          "output_type": "stream",
          "name": "stdout",
          "text": [
            "[100, 90, 70, 100, 60]\n",
            "[100, 90, 70, 100, 60, 60]\n",
            "[100, 90, 70, 100, 60, 60, 70]\n"
          ]
        }
      ]
    },
    {
      "cell_type": "code",
      "source": [
        "# insert() 리스트에 요소를 추가할 때 사용 **특정 위치를 지정하여 추가\n",
        "\n",
        "list = []\n",
        "list.insert(0, 10)\n",
        "print(list)\n",
        "\n",
        "list.insert(1, 50)\n",
        "print(list)"
      ],
      "metadata": {
        "colab": {
          "base_uri": "https://localhost:8080/"
        },
        "id": "t0v93XpkJFr9",
        "outputId": "802f0e30-307f-45ed-a60e-5358743c876c"
      },
      "execution_count": 29,
      "outputs": [
        {
          "output_type": "stream",
          "name": "stdout",
          "text": [
            "[10]\n",
            "[10, 50]\n"
          ]
        }
      ]
    },
    {
      "cell_type": "code",
      "source": [
        "list_a = [1,2,3]\n",
        "list_a.extend([4,5,6]) # 한 번에 여러 개를 넣을 때에는 extend를 사용.\n",
        "list_a # 파괴적 처리 (변수 자체가 바뀐다)"
      ],
      "metadata": {
        "colab": {
          "base_uri": "https://localhost:8080/"
        },
        "id": "VT5bUE9NKR4Y",
        "outputId": "a06e7150-f1da-401e-9704-e637ffeb2ba1"
      },
      "execution_count": 30,
      "outputs": [
        {
          "output_type": "execute_result",
          "data": {
            "text/plain": [
              "[1, 2, 3, 4, 5, 6]"
            ]
          },
          "metadata": {},
          "execution_count": 30
        }
      ]
    },
    {
      "cell_type": "code",
      "source": [
        "list_a = [1,2,3]\n",
        "list_b = [4,5,6]\n",
        "print(list_a + list_b)\n",
        "print(list_a) # 비파괴적 처리 (변수가 바뀌지 않는다)\n",
        "\n",
        "# 리스트 연결만으로는 list_a에 어떠한 영향도 주지 않는다. (비파괴적 처리)\n",
        "# 하지만 extend()를 사용하면, list_a에 직접적으로 영향을 주게 된다. (파괴적 처리)\n",
        "\n",
        "# 원래 자료를 사용할 때는 비과적으로 사용하는 것이 바람직하다.\n",
        "# 가능하면 원본 데이터는 그대로 유지하고 사용하는 것이 선택지가 더 넓다."
      ],
      "metadata": {
        "colab": {
          "base_uri": "https://localhost:8080/"
        },
        "id": "i9HNj2F-KxS-",
        "outputId": "755c2251-024c-4ef3-f133-711e8cd034fe"
      },
      "execution_count": 32,
      "outputs": [
        {
          "output_type": "stream",
          "name": "stdout",
          "text": [
            "[1, 2, 3, 4, 5, 6]\n",
            "[1, 2, 3]\n"
          ]
        }
      ]
    },
    {
      "cell_type": "code",
      "source": [
        "# del() 리스트에서 인덱스 위치 데이터 삭제\n",
        "\n",
        "list_a = [0,1,2,3,4,5]\n",
        "del list_a[1] # index 값으로 위치값을 삭제\n",
        "print(list_a)\n",
        "\n",
        "del list_a[1:3] # 1부터 3미만 즉, 2까지\n",
        "print(list_a)\n",
        "\n",
        "del list_a[:] # 생략하면 처음 : 생략하면 끝까지\n",
        "print(list_a)\n",
        "\n",
        "# list_a.clear() 리스트 요소를 전부 한번에 삭제"
      ],
      "metadata": {
        "colab": {
          "base_uri": "https://localhost:8080/"
        },
        "id": "tGCAYB-MNDJU",
        "outputId": "d6b3206a-a544-4b3c-d9a7-b73aa558c631"
      },
      "execution_count": 38,
      "outputs": [
        {
          "output_type": "stream",
          "name": "stdout",
          "text": [
            "[0, 2, 3, 4, 5]\n",
            "[0, 4, 5]\n"
          ]
        }
      ]
    },
    {
      "cell_type": "code",
      "source": [
        "# pop() 리스트에서 마지막 위치 데이터 삭제\n",
        "list_a.pop()\n",
        "list_a"
      ],
      "metadata": {
        "colab": {
          "base_uri": "https://localhost:8080/"
        },
        "id": "-mTG83P3NOko",
        "outputId": "a8c425e3-6a49-4a59-f7f2-80b74792970d"
      },
      "execution_count": 39,
      "outputs": [
        {
          "output_type": "execute_result",
          "data": {
            "text/plain": [
              "[0, 4]"
            ]
          },
          "metadata": {},
          "execution_count": 39
        }
      ]
    },
    {
      "cell_type": "code",
      "source": [
        "list_a.pop(1)\n",
        "list_a"
      ],
      "metadata": {
        "id": "yqDV9ivCOXRY"
      },
      "execution_count": null,
      "outputs": []
    },
    {
      "cell_type": "code",
      "source": [
        "# remove 값으로 삭제\n",
        "\n",
        "list_c = [1,2,1,2]\n",
        "list_c.remove(2) # remove 는 요소의 값을 찾아 삭제한다.\n",
        "                # 동일한 값이 여러 개 있을 때는 하나씩 순차적으로 삭제한다.\n",
        "                # 리스트에서 중복된 여러 개의 값을 제거하려면 반복문을 사용한다.\n",
        "print(list_c)\n",
        "list_c.remove(2)\n",
        "print(list_c)"
      ],
      "metadata": {
        "colab": {
          "base_uri": "https://localhost:8080/"
        },
        "id": "_FcF77LGOYBN",
        "outputId": "b34d16c0-d348-4fda-a9d0-0b9d3ef93d3b"
      },
      "execution_count": 41,
      "outputs": [
        {
          "output_type": "stream",
          "name": "stdout",
          "text": [
            "[1, 1, 2]\n",
            "[1, 1]\n"
          ]
        }
      ]
    },
    {
      "cell_type": "code",
      "source": [
        "list = [1,2,3,4,5]\n",
        "print(list[0]) # indexsing 비파괴적으로 동작한다.\n",
        "print(list)\n",
        "\n",
        "print(list.pop()) # pop은 파괴적으로 동작한다.\n",
        "print(list)"
      ],
      "metadata": {
        "colab": {
          "base_uri": "https://localhost:8080/"
        },
        "id": "ZPECjCtnPyo1",
        "outputId": "ed3551bb-f2fd-4a1d-9850-419187d8bf6e"
      },
      "execution_count": 42,
      "outputs": [
        {
          "output_type": "stream",
          "name": "stdout",
          "text": [
            "1\n",
            "[1, 2, 3, 4, 5]\n"
          ]
        }
      ]
    },
    {
      "cell_type": "code",
      "source": [
        "# in / not in  리스트에 존재하는 요소인지를 확인.\n",
        "\n",
        "list = [222,434,65,123,547,876]\n",
        "print(222 in list)\n",
        "\n",
        "print(221 in list)\n",
        "\n",
        "print(221 not in list)"
      ],
      "metadata": {
        "colab": {
          "base_uri": "https://localhost:8080/"
        },
        "id": "3d548C7lQWF7",
        "outputId": "b6dc2c24-c18e-4557-9660-821bae352638"
      },
      "execution_count": 47,
      "outputs": [
        {
          "output_type": "stream",
          "name": "stdout",
          "text": [
            "True\n",
            "False\n",
            "True\n"
          ]
        }
      ]
    },
    {
      "cell_type": "code",
      "source": [
        "# 딕셔너리 "
      ],
      "metadata": {
        "id": "HnH4QqtlRiZo"
      },
      "execution_count": null,
      "outputs": []
    }
  ]
}