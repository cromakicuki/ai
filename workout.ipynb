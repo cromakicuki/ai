{
  "nbformat": 4,
  "nbformat_minor": 0,
  "metadata": {
    "colab": {
      "name": "workout.ipynb",
      "provenance": [],
      "authorship_tag": "ABX9TyPso3PTRiGeifQtppmhcQ+E",
      "include_colab_link": true
    },
    "kernelspec": {
      "name": "python3",
      "display_name": "Python 3"
    },
    "language_info": {
      "name": "python"
    }
  },
  "cells": [
    {
      "cell_type": "markdown",
      "metadata": {
        "id": "view-in-github",
        "colab_type": "text"
      },
      "source": [
        "<a href=\"https://colab.research.google.com/github/cromakicuki/ai/blob/main/workout.ipynb\" target=\"_parent\"><img src=\"https://colab.research.google.com/assets/colab-badge.svg\" alt=\"Open In Colab\"/></a>"
      ]
    },
    {
      "cell_type": "code",
      "execution_count": null,
      "metadata": {
        "colab": {
          "base_uri": "https://localhost:8080/"
        },
        "id": "J41BeEKQL3kk",
        "outputId": "4f0e69a3-7156-480a-d76e-e1527aaa4596"
      },
      "outputs": [
        {
          "output_type": "stream",
          "name": "stdout",
          "text": [
            "숫자 입력1: 5\n",
            "숫자 입력2: 6\n",
            "숫자 입력3: 4\n",
            "입력하신 숫자는: [5, 6, 4]\n",
            "숫자 입력4: 3\n",
            "최종 숫자는: [5, 6, 4, 3]\n",
            "지울 숫자는: 5\n",
            "[6, 4, 3]\n"
          ]
        }
      ],
      "source": [
        "list = [int(input('숫자 입력1: ')),int(input('숫자 입력2: ')),int(input('숫자 입력3: '))]\n",
        "print('입력하신 숫자는:',list)\n",
        "list.append(int(input('숫자 입력4: ')))\n",
        "print('최종 숫자는:',list)\n",
        "list.remove(int(input('지울 숫자는: ')))\n",
        "print(list)"
      ]
    },
    {
      "cell_type": "code",
      "source": [
        "dict = {}\n",
        "\n",
        "dict[input('카테고리 이름을 입력해주세요: ')] = input('이름을 입력해주세요: ')\n",
        "dict['height'] = 185\n",
        "dict['weight'] = 75\n",
        "\n",
        "print(dict)\n",
        "del dict['weight']\n",
        "print(dict)"
      ],
      "metadata": {
        "colab": {
          "base_uri": "https://localhost:8080/"
        },
        "id": "rg7AOPUaPc1b",
        "outputId": "87aa417e-ca2e-48cd-f85e-42056063ce0c"
      },
      "execution_count": null,
      "outputs": [
        {
          "output_type": "stream",
          "name": "stdout",
          "text": [
            "이름을 입력해주세요: 망고\n",
            "카테고리 이름을 입력해주세요: name\n",
            "{'name': '망고', 'height': 185, 'weight': 75}\n",
            "{'name': '망고', 'height': 185}\n"
          ]
        }
      ]
    },
    {
      "cell_type": "code",
      "source": [
        "dict = {\n",
        "    'name': '건조 망고',\n",
        "    'type': '건조 과일',\n",
        "    'ingredient': ['망고','설탕','색소'],\n",
        "    'origin':'필리핀'\n",
        "}\n",
        "\n",
        "key = input('>삭제를 원하는 데이터의 키값을 입력하세요: ')\n",
        "\n",
        "print('입력한 키값은',key,'입니다.')\n",
        "if key in dict:\n",
        "  print('내용은',dict[key],'입니다.')\n",
        "  print(f'{key}(을)를 삭제 중입니다...')\n",
        "  del dict[key]\n",
        "  print(dict,'삭제되었습니다.')\n",
        "else:\n",
        "  print('존재하지 않는 키에 접근하고 있습니다.. ')\n",
        "\n"
      ],
      "metadata": {
        "colab": {
          "base_uri": "https://localhost:8080/"
        },
        "id": "lRXf_BbOrlBJ",
        "outputId": "4f98cb4a-a04d-4ae5-b9c1-33ee8be42714"
      },
      "execution_count": null,
      "outputs": [
        {
          "output_type": "stream",
          "name": "stdout",
          "text": [
            ">삭제를 원하는 데이터의 키값을 입력하세요: name\n",
            "입력한 키값은 name 입니다.\n",
            "내용은 건조 망고 입니다.\n",
            "name(을)를 삭제 중입니다...\n",
            "{'type': '건조 과일', 'ingredient': ['망고', '설탕', '색소'], 'origin': '필리핀'} 삭제되었습니다.\n"
          ]
        }
      ]
    },
    {
      "cell_type": "code",
      "source": [
        "# 확인용\n",
        "\n",
        "key = input('글자 암거나> ')\n",
        "len(key)"
      ],
      "metadata": {
        "colab": {
          "base_uri": "https://localhost:8080/"
        },
        "id": "18e2l3KUMrW6",
        "outputId": "cf2a795a-83ed-4d05-b5f6-bd580c58c023"
      },
      "execution_count": null,
      "outputs": [
        {
          "name": "stdout",
          "output_type": "stream",
          "text": [
            "글자 암거나> asdffsdfafaf\n"
          ]
        },
        {
          "output_type": "execute_result",
          "data": {
            "text/plain": [
              "12"
            ]
          },
          "metadata": {},
          "execution_count": 1
        }
      ]
    },
    {
      "cell_type": "code",
      "source": [
        "arr=[]\n",
        "li=[]\n",
        "g = 1\n",
        "\n",
        "while g != 0:\n",
        "  g = int(input('정수 입력 >> '))\n",
        "  if g != 0:\n",
        "    arr.append(g)\n",
        "  if g >= 7:\n",
        "    li.append(g)\n",
        "\n",
        "print(arr)\n",
        "print(li)"
      ],
      "metadata": {
        "colab": {
          "base_uri": "https://localhost:8080/"
        },
        "id": "5-7RjSFYY3vP",
        "outputId": "5d003b6d-1e57-4364-b276-758058757dd4"
      },
      "execution_count": null,
      "outputs": [
        {
          "output_type": "stream",
          "name": "stdout",
          "text": [
            "정수 입력 >> 8\n",
            "정수 입력 >> 9\n",
            "정수 입력 >> 10\n",
            "정수 입력 >> 2\n",
            "정수 입력 >> 3\n",
            "정수 입력 >> 0\n",
            "[8, 9, 10, 2, 3]\n",
            "[]\n"
          ]
        }
      ]
    }
  ]
}